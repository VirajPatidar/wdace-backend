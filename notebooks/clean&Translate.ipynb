{
  "nbformat": 4,
  "nbformat_minor": 0,
  "metadata": {
    "colab": {
      "provenance": []
    },
    "kernelspec": {
      "name": "python3",
      "display_name": "Python 3"
    },
    "language_info": {
      "name": "python"
    }
  },
  "cells": [
    {
      "cell_type": "code",
      "source": [
        "# !pip install googletrans==3.1.0a0\n",
        "!pip install googletrans==4.0.0rc1\n",
        "!pip install iso639==0.1.4\n",
        "!pip install langdetect==1.0.9 "
      ],
      "metadata": {
        "colab": {
          "base_uri": "https://localhost:8080/"
        },
        "id": "vCiblvswOL2V",
        "outputId": "bcd26760-8de9-4b1d-9505-6e0bbf883ef7"
      },
      "execution_count": 1,
      "outputs": [
        {
          "output_type": "stream",
          "name": "stdout",
          "text": [
            "Looking in indexes: https://pypi.org/simple, https://us-python.pkg.dev/colab-wheels/public/simple/\n",
            "Requirement already satisfied: googletrans==4.0.0rc1 in /usr/local/lib/python3.7/dist-packages (4.0.0rc1)\n",
            "Requirement already satisfied: httpx==0.13.3 in /usr/local/lib/python3.7/dist-packages (from googletrans==4.0.0rc1) (0.13.3)\n",
            "Requirement already satisfied: chardet==3.* in /usr/local/lib/python3.7/dist-packages (from httpx==0.13.3->googletrans==4.0.0rc1) (3.0.4)\n",
            "Requirement already satisfied: certifi in /usr/local/lib/python3.7/dist-packages (from httpx==0.13.3->googletrans==4.0.0rc1) (2022.6.15)\n",
            "Requirement already satisfied: httpcore==0.9.* in /usr/local/lib/python3.7/dist-packages (from httpx==0.13.3->googletrans==4.0.0rc1) (0.9.1)\n",
            "Requirement already satisfied: idna==2.* in /usr/local/lib/python3.7/dist-packages (from httpx==0.13.3->googletrans==4.0.0rc1) (2.10)\n",
            "Requirement already satisfied: rfc3986<2,>=1.3 in /usr/local/lib/python3.7/dist-packages (from httpx==0.13.3->googletrans==4.0.0rc1) (1.5.0)\n",
            "Requirement already satisfied: sniffio in /usr/local/lib/python3.7/dist-packages (from httpx==0.13.3->googletrans==4.0.0rc1) (1.3.0)\n",
            "Requirement already satisfied: hstspreload in /usr/local/lib/python3.7/dist-packages (from httpx==0.13.3->googletrans==4.0.0rc1) (2022.10.1)\n",
            "Requirement already satisfied: h11<0.10,>=0.8 in /usr/local/lib/python3.7/dist-packages (from httpcore==0.9.*->httpx==0.13.3->googletrans==4.0.0rc1) (0.9.0)\n",
            "Requirement already satisfied: h2==3.* in /usr/local/lib/python3.7/dist-packages (from httpcore==0.9.*->httpx==0.13.3->googletrans==4.0.0rc1) (3.2.0)\n",
            "Requirement already satisfied: hpack<4,>=3.0 in /usr/local/lib/python3.7/dist-packages (from h2==3.*->httpcore==0.9.*->httpx==0.13.3->googletrans==4.0.0rc1) (3.0.0)\n",
            "Requirement already satisfied: hyperframe<6,>=5.2.0 in /usr/local/lib/python3.7/dist-packages (from h2==3.*->httpcore==0.9.*->httpx==0.13.3->googletrans==4.0.0rc1) (5.2.0)\n",
            "Looking in indexes: https://pypi.org/simple, https://us-python.pkg.dev/colab-wheels/public/simple/\n",
            "Requirement already satisfied: iso639==0.1.4 in /usr/local/lib/python3.7/dist-packages (0.1.4)\n",
            "Looking in indexes: https://pypi.org/simple, https://us-python.pkg.dev/colab-wheels/public/simple/\n",
            "Requirement already satisfied: langdetect==1.0.9 in /usr/local/lib/python3.7/dist-packages (1.0.9)\n",
            "Requirement already satisfied: six in /usr/local/lib/python3.7/dist-packages (from langdetect==1.0.9) (1.15.0)\n"
          ]
        }
      ]
    },
    {
      "cell_type": "code",
      "source": [
        "from langdetect import detect\n",
        "from googletrans import Translator"
      ],
      "metadata": {
        "id": "2v6KGVlvN7Ui"
      },
      "execution_count": 2,
      "outputs": []
    },
    {
      "cell_type": "code",
      "source": [
        "def detect_and_translate(text, target_lang):\n",
        "    \n",
        "    result_lang = detect(text)\n",
        "    print(result_lang)\n",
        "    \n",
        "    if result_lang == target_lang:\n",
        "        return \"\" \n",
        "    \n",
        "    else:\n",
        "        translator= Translator()\n",
        "        translation = translator.translate(text, src=result_lang, dest=target_lang)\n",
        "        return translation.text"
      ],
      "metadata": {
        "id": "1_3mlAoqN_8o"
      },
      "execution_count": 3,
      "outputs": []
    },
    {
      "cell_type": "code",
      "source": [
        "import re\n",
        "\n",
        "def preProcessForTranslation(text):\n",
        "    # removing english words\n",
        "    txt_list = list(text.split(\" \"))\n",
        "    txt = list(filter(lambda ele: re.search(\"[a-zA-Z\\s]+\", ele) is None, txt_list))\n",
        "    text = ' '.join([str(elem) for elem in txt])\n",
        "\n",
        "    return str(text.strip())"
      ],
      "metadata": {
        "id": "26NN199fOjlh"
      },
      "execution_count": 4,
      "outputs": []
    },
    {
      "cell_type": "code",
      "execution_count": 5,
      "metadata": {
        "id": "Gdx_xPkSKqWW"
      },
      "outputs": [],
      "source": [
        "text1 = '''Aaj Tak বাংলা GNTTV iChowk Lallantop India Today Business Today DailyO Reader’s Digest IndiaTodayNE Sign In Sign In होम বাংলা मनोरंजन धर्म लाइफस्टाइल वीडियो फोटो बिजनेस जुर्म टेक्नोलॉजी खेल कार्यक्रम फैक्ट चेक भारत विश्व एजुकेशन इन्टरैक्टिव साइंस न्यूज़ ट्रेंडिंग कृषि समाचार लीगल न्यूज़ कोरोना ऑटो हेल्थ क्विज़ ट्रेंडिंग वीडियो आपका पेज मौसम बोर्ड रिजल्ट साहित्य इंडिया टुडे हिंदी अर्काइव एंकर्स रेट कार्ड निवेशक (Investor) डार्क मोड ऑन करे X NOTIFICATIONS 1st Oct Hindi News टेक्नोलॉजी टेक न्यूज़ Feedback 5G Launch LIVE: 4G हुआ पुराना आया 5G का जमाना, अब 10 गुना होगी इंटरनेट स्पीड, PM Modi ने किया लॉन्च PM Narendra Modi Launch 5G In India: प्रधानमंत्री नरेंद्र मोदी भारत में 5G सर्विसेस को लॉन्च कर दिया है. इसके साथ ही लोगों का इंतजार भी खत्म होगा. 5G नेटवर्क पर आपको बेहतर वॉइस क्वालिटी और कनेक्टिविटी के साथ तेज स्पीड इंटरनेट मिलेगा. 4G के मुकाबले इस पर 10 गुना ज्यादा स्पीड मिलेगी. X PM Modi लॉन्च कर रहे 5G सर्विस aajtak.in नई दिल्ली, 01 अक्टूबर 2022, (अपडेटेड 01 अक्टूबर 2022, 11:48 AM IST) Follow us: लंबे इंतजार के बाद आखिरकार भारत में 5G सर्विसेस लॉन्च हो गई है. प्रधानमंत्री नरेंद्र मोदी इंडियन मोबाइल कांग्रेस 2022 की शुरुआत करते हुए देश में 5G सर्विस भी लॉन्च की है. इसके साथ ही देश के कई शहरों में 5G की सर्विस मिलने लगेगी. लॉन्चिंग के साथ भारत भी उन देशों की लिस्ट में शामिल हो जाएगा, जहां लेटेस्ट जेनरेशन की टेलीकॉम सर्विसेस मिलेंगी. इस मौके पर पीएम मोदी 5G नेटवर्क पर वीडियो कॉल की मदद से महाराष्ट्र में स्कूल के बच्चों से बातचीत की. यह कॉल जियो ने नेटवर्क पर की गई थी. इंडियन मोबाइल कांग्रेस की शुरुआत 1 अक्टूबर दिल्ली के प्रगति मैदान में हुई है. यह कार्यक्रम 4 अक्टूबर तक चलेगा. इस कार्यक्रम में पीएम मोदी पहुंच चुके हैं और विभिन्न कंपनियों को स्टॉल पर उपकरणों के बारे में जानकारी ली. प्रधानमंत्री नरेंद्र मोदी ने जियो, एयरटेल और दूसरे कंपनियों के स्टॉल पर विजिट किया है और नई टेक्नोलॉजी का डेमो भी लिया है. उन्होंने मेडिकल लाइन में 5G की वजह से मिलने वाली सुविधाओं का जायजा लिया है. इसके अलावा किस तरह से डिफेंस और कृषि सेक्टर में 5G आने के बाद होने वाले बदलाव का भी डेमो देखा है. सम्बंधित ख़बरें दिल्ली में इन जगहों पर सबसे पहले मिलेगा 5G, 1 अक्टूबर को है लॉन्च कम खर्च में मिलेगी 5G सर्विस? जियो ला रहा सस्ता फोन, लीक हुई कीमत Jio 5G और Airtel 5G का इंतजार होगा खत्म, कुछ घंटे में होगी लॉन्च? 5G सर्विस का इंतजार खत्म! 1 अक्टूबर को PM मोदी करेंगे शुरुआत 5G रोलआउट से पहले शुरू हुई 6G की तैयारी, क्या है सरकार का प्लान सम्बंधित ख़बरें दिल्ली में इन जगहों पर सबसे पहले मिलेगा 5G, 1 अक्टूबर को है लॉन्च कम खर्च में मिलेगी 5G सर्विस? जियो ला रहा सस्ता फोन, लीक हुई कीमत Jio 5G और Airtel 5G का इंतजार होगा खत्म, कुछ घंटे में होगी लॉन्च? 5G सर्विस का इंतजार खत्म! 1 अक्टूबर को PM मोदी करेंगे शुरुआत 5G रोलआउट से पहले शुरू हुई 6G की तैयारी, क्या है सरकार का प्लान हालांकि, शुरुआत में देश के सभी शहरों में 5G नेटवर्क उपलब्ध नहीं होगा. दिल्ली, मुंबई, कोलकाता और चेन्नई समेत कई शहरों में शुरुआती सर्विस मिलेगी, जिसका विस्तार अगले साल के अंत तक पैन इंडिया लेवल पर होगा. फिलहाल मेट्रो शहरों में 5G कनेक्टिविटी मिलेगी. किन लोगों को मिलेगी 5G सर्विस? 5G यूज करने के लिए आपको नए सिम कार्ड की जरूर फिलहाल नहीं होगी. आप अपने पुराने सिम पर ही नई सर्विस यूज कर सकेंगे. हालांकि, इसके लिए आपके फोन में 5G सपोर्ट होना जरूरी है. 5G सपोर्ट ही नहीं इसमें उन बैंड्स का भी होना जरूरी है, जिस पर सर्विस उपलब्ध होगी. भारत में लॉन्च हुए बहुत से मोबाइल 5G स्पेक्ट्रम नीलामी से पहले के हैं. ऐसे में आपको चेक कर लेना चाहिए कि आपके फोन में कौन-कौन से बैंड्स मिलते हैं और आपका ऑपरेटर किन बैंड्स पर सर्विस प्रोवाइड करेगा. क्या होगा नया? ऐसा नहीं है कि 5G नेटवर्क पर आपको सिर्फ तेज स्पीड इंटरनेट मिलेगा. ये इस सर्विस का मात्र एक पहलू है. 5G नेटवर्क पर आपको हाई स्पीड डेटा के अलावा, बेहतर टेलीकॉम सर्विसेस और कॉल कनेक्टिविटी मिलेगी. यानी नए नेटवर्क पर हाई स्पीड डेटा के अलावा बेहर कॉल और कनेक्टिविटी मिलेगी. कुल मिलाकर इस नेटवर्क पर आपको टेलीकॉम एक्सपीरियंस बेहतर होगा. लंबे समय से था लोगों को इंतजार 5G स्पेक्ट्रम नीलामी जुलाई में हुई थी और उसके बाद से ही लोगों को 5G सर्विसेस का इंतजार था. आखिरकार भारत में भी 5G सर्विसेस की शुरुआत हो रही है. हालांकि, इसका पैन इंडिया एक्सपैंशन होने में वक्त लगेगा. जियो और एयरटेल दोनों ही टेलीकॉम कंपनियां 5G सर्विसेस ऑफर करेंगी. इस लिस्ट में वोडाफोन आइडिया भी शामिल है, लेकिन कंपनी ने 5G लॉन्चिंग पर ज्यादा जानकारी नहीं दी है. जियो की सर्विस शुरुआत में दिल्ली, मुंबई, कोलकाता और चेन्नई में मिलेगी. कंपनी अगले साल के अंत तक सर्विस का विस्तार अन्य राज्य में करेगी. शुरुआत में टेलीकॉम सर्विसेस प्रोवाइडर्स का फोकस बड़े शहर ही होंगे. वहीं एयरटेल ने भी अपनी तैयारी पूरी कर ली है. हाल में कंपनी के CEO ने एक लेटर लिख जानकारी दी थी कि कंज्यूमर्स 5G सर्विसे के लिए तैयार रहें. उन्हें मौजूदा सिम कार्ड पर ही 5G की सर्विस भी मिलेगी. हालांकि, इसे यूज करने के लिए उनके पास 5G फोन होना भी जरूरी है. Live TV TOPICS: 5जी आजतक के नए ऐप से अपने फोन पर पाएं रियल टाइम अलर्ट और सभी खबरें डाउनलोड करें संबंधित ख़बरें दिल्ली में इन जगहों पर सबसे पहले मिलेगी 5G सर्विस, 1 अक्टूबर को हो रही है लॉन्च Jio 5G और Airtel 5G का इंतजार होगा खत्म, इस दिन लॉन्च होगी सर्विस, सिर्फ कुछ घंटे हैं बाकी लेटेस्ट'''"
      ]
    },
    {
      "cell_type": "code",
      "source": [
        "text1"
      ],
      "metadata": {
        "colab": {
          "base_uri": "https://localhost:8080/",
          "height": 105
        },
        "id": "MuAOIP4lNqXD",
        "outputId": "a9b87143-e6bc-45b7-bfd7-6556d69c2011"
      },
      "execution_count": 6,
      "outputs": [
        {
          "output_type": "execute_result",
          "data": {
            "text/plain": [
              "'Aaj Tak বাংলা GNTTV iChowk Lallantop India Today Business Today DailyO Reader’s Digest IndiaTodayNE Sign In Sign In होम বাংলা मनोरंजन धर्म लाइफस्टाइल वीडियो फोटो बिजनेस जुर्म टेक्नोलॉजी खेल कार्यक्रम फैक्ट चेक भारत विश्व एजुकेशन इन्टरैक्टिव साइंस न्यूज़ ट्रेंडिंग कृषि समाचार लीगल न्यूज़ कोरोना ऑटो हेल्थ क्विज़ ट्रेंडिंग वीडियो आपका पेज मौसम बोर्ड रिजल्ट साहित्य इंडिया टुडे हिंदी अर्काइव एंकर्स रेट कार्ड निवेशक (Investor) डार्क मोड ऑन करे X NOTIFICATIONS 1st Oct Hindi News टेक्नोलॉजी टेक न्यूज़ Feedback 5G Launch LIVE: 4G हुआ पुराना आया 5G का जमाना, अब 10 गुना होगी इंटरनेट स्पीड, PM Modi ने किया लॉन्च PM Narendra Modi Launch 5G In India: प्रधानमंत्री नरेंद्र मोदी भारत में 5G सर्विसेस को लॉन्च कर दिया है. इसके साथ ही लोगों का इंतजार भी खत्म होगा. 5G नेटवर्क पर आपको बेहतर वॉइस क्वालिटी और कनेक्टिविटी के साथ तेज स्पीड इंटरनेट मिलेगा. 4G के मुकाबले इस पर 10 गुना ज्यादा स्पीड मिलेगी. X PM Modi लॉन्च कर रहे 5G सर्विस aajtak.in नई दिल्ली, 01 अक्टूबर 2022, (अपडेटेड 01 अक्टूबर 2022, 11:48 AM IST) Follow us: लंबे इंतजार के बाद आखिरकार भारत में 5G सर्विसेस लॉन्च हो गई है. प्रधानमंत्री नरेंद्र मोदी इंडियन मोबाइल कांग्रेस 2022 की शुरुआत करते हुए देश में 5G सर्विस भी लॉन्च की है. इसके साथ ही देश के कई शहरों में 5G की सर्विस मिलने लगेगी. लॉन्चिंग के साथ भारत भी उन देशों की लिस्ट में शामिल हो जाएगा, जहां लेटेस्ट जेनरेशन की टेलीकॉम सर्विसेस मिलेंगी. इस मौके पर पीएम मोदी 5G नेटवर्क पर वीडियो कॉल की मदद से महाराष्ट्र में स्कूल के बच्चों से बातचीत की. यह कॉल जियो ने नेटवर्क पर की गई थी. इंडियन मोबाइल कांग्रेस की शुरुआत 1 अक्टूबर दिल्ली के प्रगति मैदान में हुई है. यह कार्यक्रम 4 अक्टूबर तक चलेगा. इस कार्यक्रम में पीएम मोदी पहुंच चुके हैं और विभिन्न कंपनियों को स्टॉल पर उपकरणों के बारे में जानकारी ली. प्रधानमंत्री नरेंद्र मोदी ने जियो, एयरटेल और दूसरे कंपनियों के स्टॉल पर विजिट किया है और नई टेक्नोलॉजी का डेमो भी लिया है. उन्होंने मेडिकल लाइन में 5G की वजह से मिलने वाली सुविधाओं का जायजा लिया है. इसके अलावा किस तरह से डिफेंस और कृषि सेक्टर में 5G आने के बाद होने वाले बदलाव का भी डेमो देखा है. सम्बंधित ख़बरें दिल्ली में इन जगहों पर सबसे पहले मिलेगा 5G, 1 अक्टूबर को है लॉन्च कम खर्च में मिलेगी 5G सर्विस? जियो ला रहा सस्ता फोन, लीक हुई कीमत Jio 5G और Airtel 5G का इंतजार होगा खत्म, कुछ घंटे में होगी लॉन्च? 5G सर्विस का इंतजार खत्म! 1 अक्टूबर को PM मोदी करेंगे शुरुआत 5G रोलआउट से पहले शुरू हुई 6G की तैयारी, क्या है सरकार का प्लान सम्बंधित ख़बरें दिल्ली में इन जगहों पर सबसे पहले मिलेगा 5G, 1 अक्टूबर को है लॉन्च कम खर्च में मिलेगी 5G सर्विस? जियो ला रहा सस्ता फोन, लीक हुई कीमत Jio 5G और Airtel 5G का इंतजार होगा खत्म, कुछ घंटे में होगी लॉन्च? 5G सर्विस का इंतजार खत्म! 1 अक्टूबर को PM मोदी करेंगे शुरुआत 5G रोलआउट से पहले शुरू हुई 6G की तैयारी, क्या है सरकार का प्लान हालांकि, शुरुआत में देश के सभी शहरों में 5G नेटवर्क उपलब्ध नहीं होगा. दिल्ली, मुंबई, कोलकाता और चेन्नई समेत कई शहरों में शुरुआती सर्विस मिलेगी, जिसका विस्तार अगले साल के अंत तक पैन इंडिया लेवल पर होगा. फिलहाल मेट्रो शहरों में 5G कनेक्टिविटी मिलेगी. किन लोगों को मिलेगी 5G सर्विस? 5G यूज करने के लिए आपको नए सिम कार्ड की जरूर फिलहाल नहीं होगी. आप अपने पुराने सिम पर ही नई सर्विस यूज कर सकेंगे. हालांकि, इसके लिए आपके फोन में 5G सपोर्ट होना जरूरी है. 5G सपोर्ट ही नहीं इसमें उन बैंड्स का भी होना जरूरी है, जिस पर सर्विस उपलब्ध होगी. भारत में लॉन्च हुए बहुत से मोबाइल 5G स्पेक्ट्रम नीलामी से पहले के हैं. ऐसे में आपको चेक कर लेना चाहिए कि आपके फोन में कौन-कौन से बैंड्स मिलते हैं और आपका ऑपरेटर किन बैंड्स पर सर्विस प्रोवाइड करेगा. क्या होगा नया? ऐसा नहीं है कि 5G नेटवर्क पर आपको सिर्फ तेज स्पीड इंटरनेट मिलेगा. ये इस सर्विस का मात्र एक पहलू है. 5G नेटवर्क पर आपको हाई स्पीड डेटा के अलावा, बेहतर टेलीकॉम सर्विसेस और कॉल कनेक्टिविटी मिलेगी. यानी नए नेटवर्क पर हाई स्पीड डेटा के अलावा बेहर कॉल और कनेक्टिविटी मिलेगी. कुल मिलाकर इस नेटवर्क पर आपको टेलीकॉम एक्सपीरियंस बेहतर होगा. लंबे समय से था लोगों को इंतजार 5G स्पेक्ट्रम नीलामी जुलाई में हुई थी और उसके बाद से ही लोगों को 5G सर्विसेस का इंतजार था. आखिरकार भारत में भी 5G सर्विसेस की शुरुआत हो रही है. हालांकि, इसका पैन इंडिया एक्सपैंशन होने में वक्त लगेगा. जियो और एयरटेल दोनों ही टेलीकॉम कंपनियां 5G सर्विसेस ऑफर करेंगी. इस लिस्ट में वोडाफोन आइडिया भी शामिल है, लेकिन कंपनी ने 5G लॉन्चिंग पर ज्यादा जानकारी नहीं दी है. जियो की सर्विस शुरुआत में दिल्ली, मुंबई, कोलकाता और चेन्नई में मिलेगी. कंपनी अगले साल के अंत तक सर्विस का विस्तार अन्य राज्य में करेगी. शुरुआत में टेलीकॉम सर्विसेस प्रोवाइडर्स का फोकस बड़े शहर ही होंगे. वहीं एयरटेल ने भी अपनी तैयारी पूरी कर ली है. हाल में कंपनी के CEO ने एक लेटर लिख जानकारी दी थी कि कंज्यूमर्स 5G सर्विसे के लिए तैयार रहें. उन्हें मौजूदा सिम कार्ड पर ही 5G की सर्विस भी मिलेगी. हालांकि, इसे यूज करने के लिए उनके पास 5G फोन होना भी जरूरी है. Live TV TOPICS: 5जी आजतक के नए ऐप से अपने फोन पर पाएं रियल टाइम अलर्ट और सभी खबरें डाउनलोड करें संबंधित ख़बरें दिल्ली में इन जगहों पर सबसे पहले मिलेगी 5G सर्विस, 1 अक्टूबर को हो रही है लॉन्च Jio 5G और Airtel 5G का इंतजार होगा खत्म, इस दिन लॉन्च होगी सर्विस, सिर्फ कुछ घंटे हैं बाकी लेटेस्ट'"
            ],
            "application/vnd.google.colaboratory.intrinsic+json": {
              "type": "string"
            }
          },
          "metadata": {},
          "execution_count": 6
        }
      ]
    },
    {
      "cell_type": "code",
      "source": [
        "text = preProcessForTranslation(text1)\n",
        "detect_and_translate(text, target_lang='en')"
      ],
      "metadata": {
        "colab": {
          "base_uri": "https://localhost:8080/",
          "height": 504
        },
        "id": "yn0lHxwDN3LD",
        "outputId": "9d53fced-18cb-4e9a-8407-55f1833801fd"
      },
      "execution_count": 7,
      "outputs": [
        {
          "output_type": "stream",
          "name": "stdout",
          "text": [
            "hi\n"
          ]
        },
        {
          "output_type": "execute_result",
          "data": {
            "text/plain": [
              "\"বাংলা home বাংলা Entertainment Dharma Lifestyle Video Photo Business Crime Technology Game Program Fact Czech India World Education Interactive Science News Trending Agricultural News Legal News Corona Auto Health Quiz Trending Video Your Page Your Page Weather Board Result Sahitya India Akives Ankaras Rate Card Investor Rate Investor Dark Mode on Technology Tech News Old Aya's era, now 10 times internet speed, launched Prime Minister Narendra Modi has launched services in India. Along with this, the wait of people will also end. On the network, you will get a fast speed internet with better voice quality and connectivity. It will get 10 times more speed than it. Launching Service New Delhi, 01 October 2022, (Updated 01 October 2022, 11:48 After a long wait, the services have finally launched in India. Prime Minister Narendra Modi also launched service in the country while starting Indian Mobile Congress 2022 Along with this, service will start getting service in many cities of the country. With launching, India will also join the list of countries where the latest generation telecom services will be available. On this occasion, PM Modi with the help of video calls on network Maharashtra I talked to school children. This call was made by Jio on the network. The Indian Mobile Congress has started on 1 October at Pragati Maidan in Delhi. This program will run till October 4. PM Modi has reached this program and various various programs. Companies inquired about the equipment on the stalls. Prime Minister Narendra Modi has visited the stalls of Jio, Airtel and other companies and also took a demo of new technology. He has taken stock of the facilities provided due to the medical line. In addition to how defense and agricultural sex The demo has also seen the change after coming in the tur. Related news will be first available in these places in Delhi, on October 1, it will be launched at low cost. Jio is bringing cheap phone, leaked price and waiting will end, will it be launched in a few hours? Waiting for service is over! Modi will start on October 1, preparations started before the rollout, what is the government's plan related news will be first available in these places in Delhi, on October 1, it will be launched at low cost, service will be done? Jio is bringing cheap phone, leaked price and waiting will end, will it be launched in a few hours? Waiting for service is over! Modi will start on October 1, preparing for the beginning of the rollout, what is the government's plan, however, in the beginning, the network will not be available in all the cities of the country. Early services will be available in many cities including Delhi, Mumbai, Kolkata and Chennai, which will be expanded at Pan India level by the end of next year. At present, connectivity will be available in metro cities. Which people will get service? To use, you will not have the new SIM card at the moment. You will be able to use new service on your old SIM itself. However, it is necessary to support your phone for this. Not only support, it is also necessary to have those bands on which service will be available. Many mobile spectrum launched in India are before the auction. In such a situation, you should check which bands are available in your phone and on which bands your operator will provide service. What will happen new? It is not that you will get only fast speed internet on the network. This is just one aspect of this service. In addition to high speed data on the network, you will get better telecom services and call connectivity. That is, in addition to high speed data on the new network, you will get behar calls and connectivity. Overall, you will get better telecom experience on this network. For a long time, people were waiting spectrum auction in July and since then people were waiting for services. After all, services are also starting in India. However, it will take time to have a pan India expansion. Both Jio and Airtel telecom companies will offer services. Vodafone Idea is also included in this list, but the company has not given much information on launching. Jio's service will be held in Delhi, Mumbai, Kolkata and Chennai. The company will expand the service to other states by the end of next year. Initially, the focus of telecom services providers will be big cities. At the same time, Airtel has also completed its preparations. Recently, the company had written a letter that the consumers should be prepared for the service. They will also get service on the existing SIM card itself. However, to use it, it is also necessary to have a phone. Get real time alert and all the news on your phone from 5G Aaj Tak's new app and download all the news related news in these places in these places, service is being done on October 1, launch and waiting will end, will be launched on this day, service will be launched, only only The rest is the latest\""
            ],
            "application/vnd.google.colaboratory.intrinsic+json": {
              "type": "string"
            }
          },
          "metadata": {},
          "execution_count": 7
        }
      ]
    }
  ]
}