{
  "nbformat": 4,
  "nbformat_minor": 0,
  "metadata": {
    "colab": {
      "provenance": [],
      "collapsed_sections": [
        "z9HMOmGHK8TD"
      ]
    },
    "kernelspec": {
      "name": "python3",
      "display_name": "Python 3"
    },
    "language_info": {
      "name": "python"
    }
  },
  "cells": [
    {
      "cell_type": "markdown",
      "source": [
        "### **Imports**"
      ],
      "metadata": {
        "id": "IWcZdMQOIIYA"
      }
    },
    {
      "cell_type": "code",
      "source": [
        "import nltk\n",
        "nltk.download('stopwords')\n",
        "nltk.download('punkt')\n",
        "import re\n",
        "import numpy as np\n",
        "from sklearn.feature_extraction.text import TfidfVectorizer\n",
        "import pandas as pd\n",
        "from scipy.sparse.linalg import svds"
      ],
      "metadata": {
        "colab": {
          "base_uri": "https://localhost:8080/"
        },
        "id": "YHOX8GyGqo4n",
        "outputId": "58cfab84-05ad-45f1-e296-59fbec03d223"
      },
      "execution_count": 1,
      "outputs": [
        {
          "output_type": "stream",
          "name": "stderr",
          "text": [
            "[nltk_data] Downloading package stopwords to /root/nltk_data...\n",
            "[nltk_data]   Unzipping corpora/stopwords.zip.\n",
            "[nltk_data] Downloading package punkt to /root/nltk_data...\n",
            "[nltk_data]   Unzipping tokenizers/punkt.zip.\n"
          ]
        }
      ]
    },
    {
      "cell_type": "markdown",
      "source": [
        "### **Test Documents**"
      ],
      "metadata": {
        "id": "-IkcF9GmJAQl"
      }
    },
    {
      "cell_type": "code",
      "source": [
        "# DOCUMENT = \"\"\"\n",
        "# The Elder Scrolls V: Skyrim is an action role-playing video game developed by Bethesda Game Studios \n",
        "# and published by Bethesda Softworks. It is the fifth main installment in The Elder Scrolls series, \n",
        "# following The Elder Scrolls IV: Oblivion.\n",
        "# The game's main story revolves around the player character's quest to defeat Alduin the World-Eater, \n",
        "# a dragon who is prophesied to destroy the world. The game is set 200 years after the events of Oblivion \n",
        "# and takes place in the fictional province of Skyrim. Over the course of the game, the player completes \n",
        "# quests and develops the character by improving skills. The game continues the open-world tradition of \n",
        "# its predecessors by allowing the player to travel anywhere in the game world at any time, and to ignore \n",
        "# or postpone the main storyline indefinitely.\n",
        "# The team opted for a unique and more diverse open world than Oblivion's Imperial Province of Cyrodiil, \n",
        "# which game director and executive producer Todd Howard considered less interesting by comparison. \n",
        "# The game was released to critical acclaim, with reviewers particularly mentioning the character advancement \n",
        "# and setting, and is considered to be one of the greatest video games of all time.\n",
        "\n",
        "\n",
        "# The Elder Scrolls V: Skyrim is an action role-playing game, playable from either a first or \n",
        "# third-person perspective. The player may freely roam over the land of Skyrim which is an open world \n",
        "# environment consisting of wilderness expanses, dungeons, cities, towns, fortresses, and villages. \n",
        "# Players may navigate the game world more quickly by riding horses or by utilizing a fast-travel system \n",
        "# which allows them to warp to previously discovered locations. The game's main quest can be completed or \n",
        "# ignored at the player's preference after the first stage of the quest is finished. However, some quests \n",
        "# rely on the main storyline being at least partially completed. Non-player characters (NPCs) populate the \n",
        "# world and can be interacted with in a number of ways: the player may engage them in conversation, \n",
        "# marry an eligible NPC, kill them or engage in a nonlethal \"brawl\". The player may \n",
        "# choose to join factions which are organized groups of NPCs — for example, the Dark Brotherhood, a band \n",
        "# of assassins. Each of the factions has an associated quest path to progress through. Each city and town \n",
        "# in the game world has jobs that the player can engage in, such as farming.\n",
        "\n",
        "# Players have the option to develop their character. At the beginning of the game, players create \n",
        "# their character by selecting their sex and choosing between one of several races including humans, \n",
        "# orcs, elves, and anthropomorphic cat or lizard-like creatures and then customizing their character's \n",
        "# appearance. Over the course of the game, players improve their character's skills which are numerical \n",
        "# representations of their ability in certain areas. There are eighteen skills divided evenly among the \n",
        "# three schools of combat, magic, and stealth. When players have trained skills enough to meet the \n",
        "# required experience, their character levels up. Health is depleted primarily when the player \n",
        "# takes damage and the loss of all health results in death. Magicka is depleted by the use of spells, \n",
        "# certain poisons and by being struck by lightning-based attacks. Stamina determines the player's \n",
        "# effectiveness in combat and is depleted by sprinting, performing heavy \"power attacks\" \n",
        "# and being struck by frost-based attacks. Skyrim is the first entry in The Elder Scrolls to \n",
        "# include dragons in the game's wilderness. Like other creatures, dragons are generated randomly in \n",
        "# the world and will engage in combat with NPCs, creatures and the player. Some dragons may attack \n",
        "# cities and towns when in their proximity. The player character can absorb the souls of dragons \n",
        "# in order to use powerful spells called \"dragon shouts\" or \"Thu'um\". A regeneration \n",
        "# period limits the player's use of shouts in gameplay.\n",
        "\n",
        "# Skyrim is set around 200 years after the events of The Elder Scrolls IV: Oblivion, although it is \n",
        "# not a direct sequel. The game takes place in Skyrim, a province of the Empire on the continent of \n",
        "# Tamriel, amid a civil war between two factions: the Stormcloaks, led by Ulfric Stormcloak, and the \n",
        "# Imperial Legion, led by General Tullius. The player character is a Dragonborn, a mortal born with \n",
        "# the soul and power of a dragon. Alduin, a large black dragon who returns to the land after being \n",
        "# lost in time, serves as the game's primary antagonist. Alduin is the first dragon created by Akatosh, \n",
        "# one of the series' gods, and is prophesied to destroy and consume the world.\n",
        "# \"\"\""
      ],
      "metadata": {
        "id": "YxG5rvQe3X36"
      },
      "execution_count": 2,
      "outputs": []
    },
    {
      "cell_type": "code",
      "source": [
        "DOCUMENT = \"\"\"\n",
        "The Omicron-led surge in India — popularly, the Third Wave — saw a rise in new Covid-19 cases beginning end-December for about four weeks. The decline was dramatic, in about three weeks. This phase was marked by less hospitalisations, fewer complications and reduced mortality compared to the Delta-driven second wave. India’s experience replicates that of South Africa. Some of the increase in death counts in recent weeks can be attributed to the “reconciliation” of deaths across states in the light of the Supreme Court’s directive on compensation.\n",
        "\n",
        "Omicron is the dominant variant currently, globally and India. It is likely to shape the state of the pandemic for some time. The Alpha variant had nine mutations in its S gene and Delta had between nine and 13 mutations. Contrast these with the staggering 50 mutations in Omicron, including 32 mutations in the S gene. A French study found Omicron to be 105 per cent more transmissible than Delta and a Danish study found the variant’s capacity to infect 2-7-3.7 times more than its predecessor. Delta was 100 per cent more transmissible than the parent strain. The WHO had, therefore, warned of a tsunami of Omicron cases overwhelming hospital services despite the virus being less virulent. Indian has, however, weathered this ongoing phase reasonably well.\n",
        "\"\"\""
      ],
      "metadata": {
        "id": "k267WC4Q39MF"
      },
      "execution_count": 3,
      "outputs": []
    },
    {
      "cell_type": "code",
      "source": [
        "# DOCUMENT = \"\"\"\n",
        "# The Winter Olympics wrapped up without any severe pile-up. But despite the most controlled outflow of information from the Games venue, the enduring legacy of Beijing 2022 will be of political calculation gone awry. Despite re-assertions from China about politics and boycotts not spoiling their Games, the lingering vibe from the postcard perfect venues will still be of a highly politicised sporting event that just couldn’t front and centre the sport\n",
        "# China’s inability to address global concerns about tennis star Peng Shuai’s claims of sexual assault against a high-ranking party official, despite allowing access to a French news platform, showed why the hosts couldn’t pull off a Beijing 2008 encore of controlling every frame that the world watched. In fact, the chilling censorship, where not one voice of dissent could rise above the snow-blowers, only underlined that China could and would exert control over even their biggest tennis star, dictate every word she spoke, and control every move she made in the public eye. The silence of other athletes was loud. Beyond Peng, the row over Russian teenage ice skater Kamila Valieva’s uncertain doping status dragged on through the entirety of the Games, overshadowing the event itself. In fact, winter Beijing’s most glaring miss will be how completely overpowering was the stench of politics on sporting action, which might have risen to great heights, but simply couldn’t wrest back the headlines. Tokyo last summer, in comparison, stayed understated as hosts, allowing sport to breathe\n",
        "# The Winter Olympics in Beijing will go down as China’s failed attempt to use and misuse sport for political propaganda. Try they did, even boorishly getting a soldier from Galwan to run the torch relay, but this time, China might’ve overplayed its hand. Turning sport into a sideshow, while hard selling their politics, might well have backfired in Beijing’s 14-year-itch.\n",
        "# \"\"\""
      ],
      "metadata": {
        "id": "nGXGBLRn4RpW"
      },
      "execution_count": 4,
      "outputs": []
    },
    {
      "cell_type": "code",
      "source": [
        "# DOCUMENT = \"\"\"\n",
        "# Ahead of Arcane’s premiere, our premiere review noted that it is, essentially, extremely good YA fiction. This is the perfect way to approach the show. Like so much of YA fiction, Arcane is a story about very hot people wrecking their relationships and their own lives in ways that feel hopelessly inevitable. What makes it so compelling over the course of its now complete first season is that its characters and their passions — for each other, for fulfillment, for revenge — are what everything else stems from. It’s not a show that’s particularly concerned with world-building by way of exposition, the way so much fantasy is. Rather, it shows characters building the world — and breaking it.\n",
        "\n",
        "# Relationships drive everything in Arcane. It’s first and primarily about sisters Vi (Hailee Steinfeld) and Powder (Ella Purnell), who, across a trio of three-episode acts, grow up together as sisters orphaned by war, are separated as young adults, and become bitter, perhaps irrevocable adversaries as they enter adulthood and Powder, under the sway of a cunning slumlord, becomes the mad genius killing machine Jinx. (A lady Joker, if you will.)\n",
        "\n",
        "# Around them, the world changes. While Vi and Powder are denizens of “The Undercity,” they’re also painfully aware of their monied counterparts in Piltover, the “City of Progress” where the show’s other central pair live: Jayce (Kevin Alejandro) and Viktor (Harry Lloyd), two idealistic scientists who find each other in a moment of darkness and together, lead Piltover to even greater heights thanks to their invention of “Hextech” (i.e., magic, but also technology).\n",
        "# Unlike Vi and Powder, Jayce and Viktor are a Have and Have-Not pairing, as Viktor is from the Undercity. Their success doesn’t corrupt either of them necessarily — Arcane’s writers are interested in complicated people, not good or evil people — but it does compromise each of them in painful ways. Viktor wants to help the people being left behind in the Undercity, and Jayce wants to do the most good possible the right way, and both make terrible choices that have dire consequences for their relationship and the world of Arcane.\n",
        "\n",
        "# This is very intro-to-screenwriting stuff, but in the streaming era, TV dramas have taken on a largesse that often translates to narrative lethargy. Events take their time to occur, and can often feel like they’re happening to characters, instead of characters making things happen. In Arcane, characters are constantly making things happen, and what makes it delicious is that it’s never on purpose, and the results are almost never what they want them to be. Arcane’s first act ends with the event that effectively determines and foreshadows everything coming over the next six episodes in ways no one anticipates. Vi tells her little sister Powder to stay home while she and her friends go to rescue their surrogate father Vander. When Powder goes anyway, she decides to help by improvising a magical bomb, cleverly foreshadowing the invention of Hextech, and its eventual pivot from industrial wonder to weapon of war. The bomb kills almost all of their friends, fracturing Powder’s psyche and separating her from her sister. It’s over here, six hours before we ever see it happen. Powder shatters her whole world, and unwittingly with a crude version of the same weapons that will wreak havoc across the entire city around her.\n",
        "# A big reason this all lands so hard is thanks to the tremendous animation from Riot Games and Paris-based Fortiche, which leaves every frame brimming with venues for characterization, as body language, facial expressions, and fight choreography are all painstakingly presented and beautifully realized. It is probably worth noting that while Arcane is an unapologetic video game adaptation, it does not traffic in the typical signifiers of games culture. Most obviously, it’s a story about women with great care taken to make its cast diverse and interesting. But outside of the League of Legends subtitle, the markers of “game adaptation” are spare. It does not indulge in cartoonish and weightless action — it’s fights are all tremendously stylish, well-choreographed, and meaningful. Characters don’t just walk away from fights in Arcane bloody — if they walk away at all, they walk away different.\n",
        "\n",
        "# While I am positive Arcane is constantly bandying about references and Easter Eggs to League of Legends and its many spin-offs, they’re all entirely lost on me. Yet I’m never left feeling adrift because the show is building its own identity: Visually, narratively, and most surprisingly, musically. Imagine Dragons does the show’s theme song, and while this is one thing I have no problem making fun of Arcane for, it says something about the show’s interest in participating in the wider culture, and not merely demanding its attention the way many video game ventures do. Music permeates Arcane, and it’s all of a CW-hip sensibility: tender verses, electropop synths, fight-song choruses, and chest-thumping hip-hop. Artists like BONES UK and Pusha T to get your blood really going, and also to make Arcane feel much less...arcane.\n",
        "\n",
        "# Big-budget video games are like an island; even if there are many people hopping back and forth between them and “mainstream” culture, there’s often little in the way of cultural exchange. Visitors enjoy their time among the denizens of Video Games Island, or perhaps even relocate there, but there is still an otherness to it all; makers provide the Island, the merch, and various ephemera, but aren’t interested in much else. An awareness that culture is being shared en masse at a greater volume elsewhere. As a show made by Riot Games, one of the biggest players on Video Game Island, Arcane may be one of the most significant attempts at bridging the distance, at making games less of an island — bringing the show where everyone watches them, on Netflix. Even if it ultimately isn’t that bridge, it’s still an excellent TV show, which is a wonderful thing to be. \n",
        "# \"\"\""
      ],
      "metadata": {
        "id": "H-Bp3w4u94c_"
      },
      "execution_count": 5,
      "outputs": []
    },
    {
      "cell_type": "code",
      "source": [
        "# DOCUMENT = \"\"\"\n",
        "# # Le jour où le président russe Vladimir Poutine annonçait que la Russie avait lancé une offensive contre l'Ukraine, Sergueï* embarquait dans un avion à destination de l'Ouest, quittant sa ville natale de Saint-Pétersbourg. Trois semaines après le début de la guerre, comme des dizaines de milliers de compatriotes, ce Russe se fait à l'idée qu'il ne rentrera peut-être plus jamais chez lui. Il témoigne pour France 24. \n",
        "\n",
        "# # Sergueï a tout laissé derrière lui, à Saint-Pétersbourg, le 24 février. \"Je suis littéralement parti le premier jour de la guerre\", raconte ce travailleur indépendant russe à France 24, via une messagerie cryptée, depuis un lieu qu'il préfère ne pas divulguer pour l'instant.\n",
        "# \"\"\""
      ],
      "metadata": {
        "id": "fUY1El8lEhPP"
      },
      "execution_count": 6,
      "outputs": []
    },
    {
      "cell_type": "markdown",
      "source": [
        "### **Text File Upload**\n",
        "(Do not run this if document is one of the above samples)"
      ],
      "metadata": {
        "id": "z9HMOmGHK8TD"
      }
    },
    {
      "cell_type": "code",
      "source": [
        "from google.colab import files\n",
        "\n",
        "uploaded = files.upload()"
      ],
      "metadata": {
        "id": "1nG3cfjsLAPB"
      },
      "execution_count": null,
      "outputs": []
    },
    {
      "cell_type": "code",
      "source": [
        "# path = Enter file name here inside \"\"\n",
        "file1 = open(path, \"r\")\n",
        "DOCUMENT = file1.read()\n",
        "print(DOCUMENT)"
      ],
      "metadata": {
        "id": "CpsYWvT2MA32"
      },
      "execution_count": null,
      "outputs": []
    },
    {
      "cell_type": "markdown",
      "source": [
        "### **Extractive Summarization**"
      ],
      "metadata": {
        "id": "h5kCTaBOKkf-"
      }
    },
    {
      "cell_type": "code",
      "source": [
        "stop_words = nltk.corpus.stopwords.words('english')\n",
        "\n",
        "def normalize_document(doc):\n",
        "    # lower case and remove special characters\\whitespaces\n",
        "    doc = re.sub(r'[^a-zA-Z\\s]', '', doc, re.I|re.A)\n",
        "    doc = doc.lower()\n",
        "    doc = doc.strip()\n",
        "    # tokenize document\n",
        "    tokens = nltk.word_tokenize(doc)\n",
        "    # filter stopwords out of document\n",
        "    filtered_tokens = [token for token in tokens if token not in stop_words]\n",
        "    # re-create document from filtered tokens\n",
        "    doc = ' '.join(filtered_tokens)\n",
        "    return doc\n",
        "\n",
        "def low_rank_svd(matrix, singular_count):\n",
        "    u, s, vt = svds(matrix, k=singular_count)\n",
        "    return u, s, vt"
      ],
      "metadata": {
        "id": "-faf10U2JtNx"
      },
      "execution_count": 8,
      "outputs": []
    },
    {
      "cell_type": "code",
      "source": [
        "def extractive_summariser(DOCUMENT):\n",
        "\n",
        "    DOCUMENT = re.sub(r'\\n|\\r', ' ', DOCUMENT)\n",
        "    DOCUMENT = re.sub(r' +', ' ', DOCUMENT)\n",
        "    DOCUMENT = DOCUMENT.strip()\n",
        "\n",
        "    sentences = nltk.sent_tokenize(DOCUMENT)\n",
        "\n",
        "    normalize_corpus = np.vectorize(normalize_document)\n",
        "\n",
        "    norm_sentences = normalize_corpus(sentences)\n",
        "\n",
        "    tv = TfidfVectorizer(min_df=0., max_df=1., use_idf=True)\n",
        "    dt_matrix = tv.fit_transform(norm_sentences)\n",
        "    dt_matrix = dt_matrix.toarray()\n",
        "\n",
        "    vocab = tv.get_feature_names_out()\n",
        "    td_matrix = dt_matrix.T\n",
        "\n",
        "    pd.DataFrame(np.round(td_matrix, 2), index=vocab)\n",
        "\n",
        "    l = len(sentences)\n",
        "\n",
        "    if(l <= 2):\n",
        "        return (\"\\n\".join(np.array(sentences)))\n",
        "\n",
        "    num_sentences = 0\n",
        "\n",
        "    if(l < 10):\n",
        "        num_sentences = 3\n",
        "    elif(l < 100):\n",
        "        num_sentences = int(l/3)\n",
        "    elif(l < 500):\n",
        "        num_sentences = int(l/8)\n",
        "    elif(l < 1000):\n",
        "        num_sentences = int(l/14)\n",
        "    else:\n",
        "        num_sentences = 72\n",
        "\n",
        "    u, s, vt = low_rank_svd(td_matrix, 2)  \n",
        "\n",
        "    term_topic_mat, singular_values, topic_document_mat = u, s, vt\n",
        "\n",
        "    # remove singular values below threshold                                         \n",
        "    sv_threshold = 0.5\n",
        "    min_sigma_value = max(singular_values) * sv_threshold\n",
        "    singular_values[singular_values < min_sigma_value] = 0\n",
        "\n",
        "    salience_scores = np.sqrt(np.dot(np.square(singular_values), \n",
        "                                    np.square(topic_document_mat)))\n",
        "\n",
        "    top_sentence_indices = (-salience_scores).argsort()[:num_sentences]\n",
        "    top_sentence_indices.sort()\n",
        "    \n",
        "    print(\"Summary Length: \" , num_sentences)\n",
        "    return (\"\\n\".join(np.array(sentences)[top_sentence_indices]))"
      ],
      "metadata": {
        "id": "zzESJeK6Jdky"
      },
      "execution_count": 11,
      "outputs": []
    },
    {
      "cell_type": "code",
      "source": [
        "summary = extractive_summariser(DOCUMENT)\n",
        "print(\"\\n\\nSummary: \\n\", summary)"
      ],
      "metadata": {
        "colab": {
          "base_uri": "https://localhost:8080/"
        },
        "id": "nDT-nMD6Jf-J",
        "outputId": "9c8e076d-dfc3-4284-da74-b545edf6f2e2"
      },
      "execution_count": 12,
      "outputs": [
        {
          "output_type": "stream",
          "name": "stdout",
          "text": [
            "Summary Length:  4\n",
            "\n",
            "\n",
            "Summary: \n",
            " The Alpha variant had nine mutations in its S gene and Delta had between nine and 13 mutations.\n",
            "Contrast these with the staggering 50 mutations in Omicron, including 32 mutations in the S gene.\n",
            "A French study found Omicron to be 105 per cent more transmissible than Delta and a Danish study found the variant’s capacity to infect 2-7-3.7 times more than its predecessor.\n",
            "Delta was 100 per cent more transmissible than the parent strain.\n"
          ]
        }
      ]
    }
  ]
}