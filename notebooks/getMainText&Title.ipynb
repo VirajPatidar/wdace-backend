{
  "nbformat": 4,
  "nbformat_minor": 0,
  "metadata": {
    "colab": {
      "provenance": []
    },
    "kernelspec": {
      "name": "python3",
      "display_name": "Python 3"
    },
    "language_info": {
      "name": "python"
    }
  },
  "cells": [
    {
      "cell_type": "code",
      "source": [
        "! pip install readability-lxml"
      ],
      "metadata": {
        "colab": {
          "base_uri": "https://localhost:8080/"
        },
        "id": "zc39OdZk8MHh",
        "outputId": "59e7d42e-07c2-4a79-c261-abed8e304a64"
      },
      "execution_count": 13,
      "outputs": [
        {
          "output_type": "stream",
          "name": "stdout",
          "text": [
            "Looking in indexes: https://pypi.org/simple, https://us-python.pkg.dev/colab-wheels/public/simple/\n",
            "Requirement already satisfied: readability-lxml in /usr/local/lib/python3.7/dist-packages (0.8.1)\n",
            "Requirement already satisfied: lxml in /usr/local/lib/python3.7/dist-packages (from readability-lxml) (4.9.1)\n",
            "Requirement already satisfied: chardet in /usr/local/lib/python3.7/dist-packages (from readability-lxml) (3.0.4)\n",
            "Requirement already satisfied: cssselect in /usr/local/lib/python3.7/dist-packages (from readability-lxml) (1.1.0)\n"
          ]
        }
      ]
    },
    {
      "cell_type": "code",
      "source": [
        "import re\n",
        "import string\n",
        "from readability import Document\n",
        "import requests\n",
        "from requests.packages.urllib3.exceptions import InsecureRequestWarning "
      ],
      "metadata": {
        "id": "k4LOborN76SU"
      },
      "execution_count": 14,
      "outputs": []
    },
    {
      "cell_type": "code",
      "source": [
        "# Disable displaying SSL verification warnings\n",
        "requests.packages.urllib3.disable_warnings(InsecureRequestWarning)\n",
        "\n",
        "HEADERS = ({'User-Agent':\n",
        "            'Mozilla/5.0 (X11; Linux x86_64) AppleWebKit/537.36 (KHTML, like Gecko) Chrome/44.0.2403.157 Safari/537.36',\n",
        "            'Accept-Language': 'en-US, en;q=0.5'})"
      ],
      "metadata": {
        "id": "SJd1x6RU8APc"
      },
      "execution_count": 15,
      "outputs": []
    },
    {
      "cell_type": "code",
      "execution_count": 19,
      "metadata": {
        "id": "oHced_3O7zt2"
      },
      "outputs": [],
      "source": [
        "url = 'https://timesofindia.indiatimes.com/india/india-abstains-on-unsc-resolution-condemning-russian-annexation-of-ukrainian-regions/articleshow/94575345.cms'\n",
        "url2 = 'https://www.flipkart.com/realme-c31-light-silver-32-gb/p/itme0f2960da9bbb?pid=MOBGCGVA3DANQNQH&lid=LSTMOBGCGVA3DANQNQHVUTE0C&marketplace=FLIPKART&store=tyy%2F4io&srno=b_1_1&otracker=clp_metro_expandable_1_3.metroExpandable.METRO_EXPANDABLE_Shop%2BNow_mobile-phones-store_Q1PDG4YW86MF_wp2&fm=neo%2Fmerchandising&iid=b11afe4a-ab9b-4430-9bca-c5cde46922e9.MOBGCGVA3DANQNQH.SEARCH&ppt=clp&ppn=mobile-phones-store&ssid=y6vn98qtxc0000001664598610518'\n",
        "url3 = 'https://www.amazon.in/OnePlus-Nord-Black-128GB-Storage/dp/B09WQY65HN?ref_=Oct_d_otopr_d_1389432031&pd_rd_w=wHxpo&content-id=amzn1.sym.f5d0d3e7-fe8a-4766-96ee-1c39e69d20b3&pf_rd_p=f5d0d3e7-fe8a-4766-96ee-1c39e69d20b3&pf_rd_r=05ADER8ET3FRB4ZTS12H&pd_rd_wg=7Iveu&pd_rd_r=4991978d-b57f-40ec-a872-9b6a597408ed&pd_rd_i=B09WQY65HN'\n",
        "url4 = 'https://www.lemonde.fr/politique/article/2022/09/27/pour-emmanuel-macron-2023-sera-une-annee-charniere-entre-croissance-atone-et-grands-chantiers_6143359_823448.html'\n",
        "url5 = 'https://timesofindia.indiatimes.com/'\n",
        "url6 = 'https://medium.com/'\n",
        "url7 = 'https://www.cricbuzz.com/'\n",
        "url8 = 'https://www.flipkart.com/'\n",
        "url9 = 'https://www.amazon.in/'\n",
        "url10 = 'https://www.amazon.in/Amazon-Brand-Solimo-Single-Recliner/dp/B0862RSLNX/ref=sr_1_7?qid=1664600663&refinements=p_36%3A3444814031&rnid=3444809031&s=kitchen&sr=1-7'\n",
        "url11 = 'https://mondaynote.com/apple-car-bad-idea-after-all-9468947640ee'"
      ]
    },
    {
      "cell_type": "code",
      "source": [
        "response = requests.get(url11, headers=HEADERS)\n",
        "\n",
        "doc = Document(response.text)\n",
        "title = doc.title()\n",
        "raw_html = doc.summary()\n",
        "\n",
        "CLEANR = re.compile('<.*?>|&([a-z0-9]+|#[0-9]{1,6}|#x[0-9a-f]{1,6});') \n",
        "cleantext = re.sub(CLEANR, '', raw_html)\n",
        "cleantext2 = re.sub('\\n', ' ', cleantext)\n",
        "res = re.sub(' +', ' ', cleantext2)\n",
        "res = res[:-1]\n",
        "res.strip()\n",
        "\n",
        "print(title)\n",
        "print(res)"
      ],
      "metadata": {
        "colab": {
          "base_uri": "https://localhost:8080/"
        },
        "id": "gsC9QaLM8CL9",
        "outputId": "a5e6ecde-a530-4790-f89d-532849a289bb"
      },
      "execution_count": 21,
      "outputs": [
        {
          "output_type": "stream",
          "name": "stdout",
          "text": [
            "Apple Car: Bad Idea After All. by Jean-Louis Gassée | by Jean-Louis Gassée | Sep, 2022 | Monday Note\n",
            "Apple Car: Bad Idea After Allby Jean-Louis GasséeAfter arguing that Apple’s EV project could be a big win that’s well within the company’s reach, today we turn to the other side of the bet.Who wouldn’t want to drive a vehicle built by a company who’s sense of fit and finish, its attention to the user’s experience is second to none? A vehicle we could facilely call The iPhone of EVs — although “Apple Car” is a powerful enough monicker.That was my conclusion in the August 21 Monday Note, Apple Car: Software and Money. But there’s another side to the story. As the sages insist, we don’t understand a problem, an idea, a case unless we’re able to see, to plead both sides. So, I’ll attempt to argue that the Apple Car is a bad idea.In that Monday Note, I asked the money question: Why would Apple, with its 54% Gross Margin (more for services, a little less for hardware), wade into an auto industry swap that has notoriously low Gross Margins, around 7% worldwide with a little more for premium brands?However, when we took a closer look at Tesla’s financial statements, we found that the preeminent EV company’s Gross Margin has fluctuated between 28% and 33% for the past five quarters. Surely, an “even more organized” company such as Apple could do better and achieve its customary Gross Margin level in a $3T (as in trillion) industry. Furthermore, whereas Tesla has to build its own factories, Apple could operate in its usual Asset Light (and software-heavy) fashion. As the company does for all its products, from iPods to iPhones and Macs, subcontractors managed by Apple would build Apple Cars.But while the Asset Light business model (“where the company focuses on reducing the amount of capital that is invested in assets”) allows financial flexibility, it’s not free — there’s no magic. Apple must provide financial support for the contractors who build their devices. If you have the time and inclination, take a look at Apple’s Q2 FY (Fiscal Year) 2022 quarterly statement. In the always instructive Management’s Discussion and Analysis of Financial Condition and Results of Operations section, there is a subsection titled Manufacturing Purchase Obligations that details advance payments made to its manufacturing contractors. In Q2 FY 2022, the amount was a respectable $40.6B — soberly labeled as “primarily non-cancelable”. Apple would surely do the same, at the appropriate scale, for a car manufacturing contractor.Then there’s the price challenge. Today, EVs cost $40K and up, where “up” means $150K for a Porsche Taycan, or $110K for a Mercedes EQS. The entry-level Tesla Model 3 starts at $46K for the two-wheel drive model and more than $60K for the four-wheel drive version — to say nothing of the infamous “Full Self-Driving” package, an additional $15K. (I’ve often wondered if Elon Musk’s regrettable (and privately admitted) exaggerations will ever finally catch up with him.)But is this a challenge or an opportunity? Would Apple try to undercut existing EV makers by selling an Apple Car for significantly less than $50K? No, history tells us that Apple would vie for a premium spot by trading on its reputation and top-grade UI. I’ve tried several EVs (besides our own Tesla) and have found their UI lacking. I even watched from the rear seat of a German EV as a salesperson “unsold” my spouse, confusing her with the many ways to accomplish a simple task.Assuming the price hurdle can be surmounted, how would Apple sell its vehicles? You can walk into an Apple Store and walk out with a new Watch, a new iPhone, or a new Mac (or order it, anyway — delivery times may vary). Cars are different — they won’t fit in an Apple Store.Tesla had to build a network of stores where people could come in, kick the tires, and get a test-drive — but not in in states that prohibit direct sales (ten of them at last count). There are other areas where Tesla’s activities such as service and repair are limited.In addition to having to build a dedicated infrastructure to sell and service its vehicles, Apple would have to find ways to overcome the same obstacles that stand in the way of Tesla’s direct sales. This hasn’t prevented Musk from achieving close to 15% market share in California (versus 5.6% for the US at large), but we should remind ourselves that it took Tesla (founded in 2003) nearly two decades to achieve its current market acceptance.And what about software, an area where Apple (nearly) always shines? An Apple Car would likely need a dedicated operating system, rather than a version of macOS or iOS. Too many different requirements: power, UI, reliability (don’t reboot in the middle of a freeway or downtown New York City), and then there are the demands made by full self-driving autonomy — aka Level 5 Automation.My August 21 conclusion was that the Cupertino company would forgo the fantasy of Level 5 in order to take its share of the $3T worldwide auto market and gain a substantial revenue stream. But shorn of the need to achieve Level 5 the Apple Car OS would still have to achieve Level 2 if not Level 3 in order to keep pace with Mercedes’ recently announced Drive Pilot (obligingly pointed to by a sharp-eyed MN reader).Even for Apple, software is hard. Just see the camera bugs in the thoroughly-tested iOS 16:“Earlier this week, Apple confirmed it would roll out an update next week aimed at addressing a handful of bugs that have been plaguing users, including an annoying copy and paste permissions-related bug and another that saw the camera shake when recording video in a number of third-party apps…”What happens when car software has a runtime glitch? Volkswagen CEO Herbert Diess lost his job because of EV software problems at the Cariad software operation. “But this never happens at Apple!” you’ll object. Tell that to the esteemed Scott Forstall, or the “Titan” principals who have come and gone during the project’s eight-year history, a revolving door phenomenon that saps confidence in the company’s ability to make the project converge towards a state of true productization.To be sure, Apple is known for its patience and discipline. The company is immensely well-financed and wouldn’t have to go through the travails of Tesla’s early years — with a hat tip to Elon Musk’s fortitude and improvisation skills. But by the time Apple enters the EV market (in 2025?) there will be a crowd of competitors from Germany, Korea, China, and the US itself where once skeptical domestic automakers are now fully committed and spending big sums to be fully in the game.Ultimately, I’m skeptical…and that makes me uncomfortable.Personally, it’s jarring to think that I’ve joined the chorus of doomsayers who have repeatedly predicted Apple’s failure with the Mac, the iPhone, the iPad…whatever Apple comes up, it’s going to crash and burn. But my honest view is that the Apple Car project could be a bad idea for reasons of price, sales and service infrastructure, and technical challenges.The pessimism is countered by my great respect for Tim Cook and his team. They’ve brought Apple to its leading market position and financial strength. As a result, if Cook’s team continues to pour an estimated $1B per year — again, for eight years — into an EV project, they must have done their sums and weighed the odds. So many billions invested against an uncertain but appetizing new revenue stream. A great win against an affordable loss if the EV planets don’t align the Apple way.— JLG@mondaynote.co\n"
          ]
        }
      ]
    }
  ]
}