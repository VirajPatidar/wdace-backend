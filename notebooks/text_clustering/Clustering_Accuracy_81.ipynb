{
  "nbformat": 4,
  "nbformat_minor": 0,
  "metadata": {
    "colab": {
      "provenance": []
    },
    "kernelspec": {
      "name": "python3",
      "display_name": "Python 3"
    },
    "language_info": {
      "name": "python"
    },
    "accelerator": "GPU",
    "gpuClass": "standard"
  },
  "cells": [
    {
      "cell_type": "markdown",
      "source": [
        "## Direct Load and Train AGNews and BBCNews"
      ],
      "metadata": {
        "id": "08xbbdN1bGox"
      }
    },
    {
      "cell_type": "code",
      "source": [
        "from google.colab import drive\n",
        "drive.mount('/content/gdrive/', force_remount=True)"
      ],
      "metadata": {
        "colab": {
          "base_uri": "https://localhost:8080/"
        },
        "id": "Oq8kf1VpbLlX",
        "outputId": "7fd9c43a-b204-4f24-d1a6-531245b2941b"
      },
      "execution_count": 1,
      "outputs": [
        {
          "output_type": "stream",
          "name": "stdout",
          "text": [
            "Mounted at /content/gdrive/\n"
          ]
        }
      ]
    },
    {
      "cell_type": "code",
      "source": [
        "import os\n",
        "import pickle\n",
        "from IPython.display import display, HTML"
      ],
      "metadata": {
        "id": "7Gab3eXhbLi6"
      },
      "execution_count": 2,
      "outputs": []
    },
    {
      "cell_type": "code",
      "source": [
        "# import AGNews Data\n",
        "with open('/content/gdrive/MyDrive/Extra Docs/Clustering/ag_files/cleaned_df.pickle', 'rb') as f:\n",
        "    ag_data = pickle.load(f)\n",
        "\n",
        "with open('/content/gdrive/MyDrive/Extra Docs/Clustering/ag_files/lemmatized_texts.pickle', 'rb') as f:\n",
        "    ag_texts = pickle.load(f)\n",
        "\n",
        "display(HTML(ag_data.head(5).to_html()))\n",
        "print(ag_texts[:5])"
      ],
      "metadata": {
        "colab": {
          "base_uri": "https://localhost:8080/",
          "height": 313
        },
        "id": "303gjel2bqfG",
        "outputId": "e56ef418-34e2-415b-cbfc-9ca3674c5143"
      },
      "execution_count": 5,
      "outputs": [
        {
          "output_type": "display_data",
          "data": {
            "text/plain": [
              "<IPython.core.display.HTML object>"
            ],
            "text/html": [
              "<table border=\"1\" class=\"dataframe\">\n",
              "  <thead>\n",
              "    <tr style=\"text-align: right;\">\n",
              "      <th></th>\n",
              "      <th>Description</th>\n",
              "    </tr>\n",
              "  </thead>\n",
              "  <tbody>\n",
              "    <tr>\n",
              "      <th>0</th>\n",
              "      <td>reuters shortsellers wall streets dwindling band ultracynics seeing green again</td>\n",
              "    </tr>\n",
              "    <tr>\n",
              "      <th>1</th>\n",
              "      <td>reuters private investment firm carlyle group reputation making welltimed occasionally controversial plays defense industry quietly placed bets another part market</td>\n",
              "    </tr>\n",
              "    <tr>\n",
              "      <th>2</th>\n",
              "      <td>reuters soaring crude prices plus worries economy outlook earnings expected hang stock market next week depth summer doldrums</td>\n",
              "    </tr>\n",
              "    <tr>\n",
              "      <th>3</th>\n",
              "      <td>reuters authorities halted oil export flows main pipeline southern iraq intelligence showed rebel militia could strike infrastructure oil official said saturday</td>\n",
              "    </tr>\n",
              "    <tr>\n",
              "      <th>4</th>\n",
              "      <td>afp tearaway world oil prices toppling records straining wallets present new economic menace barely three months presidential elections</td>\n",
              "    </tr>\n",
              "  </tbody>\n",
              "</table>"
            ]
          },
          "metadata": {}
        },
        {
          "output_type": "stream",
          "name": "stdout",
          "text": [
            "[['shortsellers', 'wall', 'street', 'dwindling', 'band', 'ultracynics', 'seeing', 'green'], ['private', 'investment', 'firm', 'carlyle', 'group', 'reputation', 'making', 'welltimed', 'occasionally', 'controversial', 'play', 'defense', 'industry', 'quietly', 'placed', 'bet', 'another', 'part', 'market'], ['soaring', 'crude', 'price', 'plus', 'worry', 'economy', 'outlook', 'earnings', 'expected', 'hang', 'stock', 'market', 'next', 'week', 'depth', 'summer', 'doldrums'], ['authority', 'halted', 'oil', 'export', 'flow', 'main', 'pipeline', 'southern', 'iraq', 'intelligence', 'showed', 'rebel', 'militia', 'could', 'strike', 'infrastructure', 'oil', 'official', 'said', 'saturday'], ['afp', 'tearaway', 'world', 'oil', 'price', 'toppling', 'record', 'straining', 'wallet', 'present', 'new', 'economic', 'menace', 'barely', 'three', 'month', 'presidential', 'election']]\n"
          ]
        }
      ]
    },
    {
      "cell_type": "code",
      "source": [
        "# import BBC News Data\n",
        "with open('/content/gdrive/MyDrive/Extra Docs/Clustering/bbc_files/cleaned_df.pickle', 'rb') as f:\n",
        "    bbc_data = pickle.load(f)\n",
        "\n",
        "with open('/content/gdrive/MyDrive/Extra Docs/Clustering/bbc_files/lemmatized_texts.pickle', 'rb') as f:\n",
        "    bbc_texts = pickle.load(f)\n",
        "\n",
        "display(HTML(bbc_data.head(5).to_html()))\n",
        "print(bbc_texts[:5])"
      ],
      "metadata": {
        "colab": {
          "base_uri": "https://localhost:8080/",
          "height": 1000
        },
        "id": "tkxF3q7EbLgQ",
        "outputId": "ade6c3fd-362d-4181-a663-15ee4d65bd9e"
      },
      "execution_count": 6,
      "outputs": [
        {
          "output_type": "display_data",
          "data": {
            "text/plain": [
              "<IPython.core.display.HTML object>"
            ],
            "text/html": [
              "<table border=\"1\" class=\"dataframe\">\n",
              "  <thead>\n",
              "    <tr style=\"text-align: right;\">\n",
              "      <th></th>\n",
              "      <th>Unnamed: 0</th>\n",
              "      <th>Description</th>\n",
              "    </tr>\n",
              "  </thead>\n",
              "  <tbody>\n",
              "    <tr>\n",
              "      <th>0</th>\n",
              "      <td>0</td>\n",
              "      <td>yiannis papadoyiannakis head greek olympic team athens games last year also testified tribunal along greek sports officials athletesthe fivemember tribunal assembled hellenic association amateur athletics also examining allegations kenteris thanou avoided tests tel aviv chicago gamesthey given provisional suspensions athletics ruling body iaaf december failing take drugs tests athens olympicstzekos also banned two years iaafgreek sprinters kostas kenteris katerina thanou appeared independent tribunal decide bans standall three repeatedly denied allegations also charged greek prosecutor face trial dopingrelated chargesthere also evidence proves fact client persecutedbut kenteris lawyer gregory ioannidis told bbc sport earlier week confident sprinters would cleared charges failing give information location refusing submit testingi believe tribunal reach decision uphold standing institution said papadoyiannakis</td>\n",
              "    </tr>\n",
              "    <tr>\n",
              "      <th>1</th>\n",
              "      <td>1</td>\n",
              "      <td>mr conte chose make unsubstantiated allegations television marion jones demanded take passed lie detector examinationmarion jones filed lawsuit defamation balco boss victor conte following allegations gave performanceenhancing drugsjones investigation steroid use antidoping agency continually denied ever taking illegal substances since investigated balco scandal although praised zinc supplement conte marketedafter abc television program earlier month jones lawyer richard nicholls said marion steadfastly maintained position throughout never ever used performanceenhancing drugsvictor conte man facing count federal indictment marion jones one americas decorated female athletesbut davies stressed would american authorities decide whether take action jones light contes television interview world governing body would monitor situation closelyconte whose company centre doping investigation made claims television programmemr conte simply crediblewe challenge submit lie detector procedure marion jones passedcommunications director nick davies said iaaf would seek contact conte for information</td>\n",
              "    </tr>\n",
              "    <tr>\n",
              "      <th>2</th>\n",
              "      <td>2</td>\n",
              "      <td>andy roddick player put real resistance wimbledon federers performance lleyton hewitt open final breathtakingand anastasia myskina became first russian woman win grand slam french open two followed wimbledon openfederer began year world number one holder wimbledon masters cup titles set conquering new groundhenman broke new ground reaching semis clay french open stunning effort also opendavenport strong favourite open but hampered injury lost powerful unflappable kuznetsova semisthe year started regulation fashion justine heninhardenne beat compatriot kim clijsters australian opena virus ruined rest heninhardennes year although fit enough win olympic gold clijsters even miserable the major letdown thirdround loss gustavo kuerten french open roland garros main target kuznetsova went give dementieva another grand slam final thrashing latters wayward serve becoming one talking points yearin absence myskina thrashed elena dementieva historic woeful allrussian final french opena quarterfinal defeat mario ancic wimbledon disappointing limp manner britons defeat remains optimistic going next yearhis victory houston proved th successive win final open era record</td>\n",
              "    </tr>\n",
              "    <tr>\n",
              "      <th>3</th>\n",
              "      <td>3</td>\n",
              "      <td>greek sprinters kostas kenteris katerina thanou expected find wednesday banned missing drugs tests summerkenteris gold m sydney olympics thanou silver mthe greek authorities also brought criminal charges sprinters avoiding drugs test faking accidentbut kenteris thanou went skip tests tel aviv chicago decided fly back greece earlykenteris thanou appeal decision court arbitration sportkenteris thanou could suspended two years</td>\n",
              "    </tr>\n",
              "    <tr>\n",
              "      <th>4</th>\n",
              "      <td>4</td>\n",
              "      <td>but umaga england saturdays irb rugby aid match also backed new zealand win threetest series lionsumaga meet odriscoll saturdays rugby aid match twickenham irish captain leading northern hemisphere sideall blacks captain tama umaga warned british irish lions fearsome opponents yet ahead summer tourthe yearold admitted interest lions tour immense calling the biggest thing hit new zealand since lord ringsitll good get early idea guys although lot change june umaga saidodriscoll among host players northern hemisphere squad coached woodward tipped lions callupsit great new zealand rugby gave clearhe added as players enough driven rarity playing lionslions boss sir clive woodward set announce squad junejuly tour next monthwhen woodward appointed last year widely believed would rely heavily former england playersthankfully know anyone involved tragedy tsunami miss horrific reports news</td>\n",
              "    </tr>\n",
              "  </tbody>\n",
              "</table>"
            ]
          },
          "metadata": {}
        },
        {
          "output_type": "stream",
          "name": "stdout",
          "text": [
            "[['yiannis', 'papadoyiannakis', 'head', 'greek', 'olympic', 'team', 'athens', 'game', 'last', 'year', 'also', 'testified', 'tribunal', 'along', 'greek', 'sport', 'official', 'athletesthe', 'fivemember', 'tribunal', 'assembled', 'hellenic', 'association', 'amateur', 'athletics', 'also', 'examining', 'allegation', 'kenteris', 'thanou', 'avoided', 'test', 'tel', 'aviv', 'chicago', 'gamesthey', 'given', 'provisional', 'suspension', 'athletics', 'ruling', 'body', 'iaaf', 'december', 'failing', 'take', 'drug', 'test', 'athens', 'olympicstzekos', 'also', 'banned', 'two', 'year', 'iaafgreek', 'sprinter', 'kostas', 'kenteris', 'katerina', 'thanou', 'appeared', 'independent', 'tribunal', 'decide', 'ban', 'standall', 'three', 'repeatedly', 'denied', 'allegation', 'also', 'charged', 'greek', 'prosecutor', 'face', 'trial', 'dopingrelated', 'chargesthere', 'also', 'evidence', 'prof', 'fact', 'client', 'persecutedbut', 'kenteris', 'lawyer', 'gregory', 'ioannidis', 'told', 'bbc', 'sport', 'earlier', 'week', 'confident', 'sprinter', 'would', 'cleared', 'charge', 'failing', 'give', 'information', 'location', 'refusing', 'submit', 'testingi', 'believe', 'tribunal', 'reach', 'decision', 'uphold', 'standing', 'institution', 'said', 'papadoyiannakis'], ['conte', 'chose', 'make', 'unsubstantiated', 'allegation', 'television', 'marion', 'jones', 'demanded', 'take', 'passed', 'lie', 'detector', 'examinationmarion', 'jones', 'filed', 'lawsuit', 'defamation', 'balco', 'bos', 'victor', 'conte', 'following', 'allegation', 'gave', 'performanceenhancing', 'drugsjones', 'investigation', 'steroid', 'use', 'antidoping', 'agency', 'continually', 'denied', 'ever', 'taking', 'illegal', 'substance', 'since', 'investigated', 'balco', 'scandal', 'although', 'praised', 'zinc', 'supplement', 'conte', 'marketedafter', 'abc', 'television', 'program', 'earlier', 'month', 'jones', 'lawyer', 'richard', 'nicholls', 'said', 'marion', 'steadfastly', 'maintained', 'position', 'throughout', 'never', 'ever', 'used', 'performanceenhancing', 'drugsvictor', 'conte', 'man', 'facing', 'count', 'federal', 'indictment', 'marion', 'jones', 'one', 'america', 'decorated', 'female', 'athletesbut', 'davy', 'stressed', 'would', 'american', 'authority', 'decide', 'whether', 'take', 'action', 'jones', 'light', 'contes', 'television', 'interview', 'world', 'governing', 'body', 'would', 'monitor', 'situation', 'closelyconte', 'whose', 'company', 'centre', 'doping', 'investigation', 'made', 'claim', 'television', 'programmemr', 'conte', 'simply', 'crediblewe', 'challenge', 'submit', 'lie', 'detector', 'procedure', 'marion', 'jones', 'passedcommunications', 'director', 'nick', 'davy', 'said', 'iaaf', 'would', 'seek', 'contact', 'conte', 'information'], ['andy', 'roddick', 'player', 'put', 'real', 'resistance', 'wimbledon', 'federers', 'performance', 'lleyton', 'hewitt', 'open', 'final', 'breathtakingand', 'anastasia', 'myskina', 'became', 'first', 'russian', 'woman', 'win', 'grand', 'slam', 'french', 'open', 'two', 'followed', 'wimbledon', 'openfederer', 'began', 'year', 'world', 'number', 'one', 'holder', 'wimbledon', 'master', 'cup', 'title', 'set', 'conquering', 'new', 'groundhenman', 'broke', 'new', 'ground', 'reaching', 'semi', 'clay', 'french', 'open', 'stunning', 'effort', 'also', 'opendavenport', 'strong', 'favourite', 'open', 'hampered', 'injury', 'lost', 'powerful', 'unflappable', 'kuznetsova', 'semisthe', 'year', 'started', 'regulation', 'fashion', 'justine', 'heninhardenne', 'beat', 'compatriot', 'kim', 'clijsters', 'australian', 'opena', 'virus', 'ruined', 'rest', 'heninhardennes', 'year', 'although', 'fit', 'enough', 'win', 'olympic', 'gold', 'clijsters', 'even', 'miserable', 'major', 'letdown', 'thirdround', 'loss', 'gustavo', 'kuerten', 'french', 'open', 'roland', 'garros', 'main', 'target', 'kuznetsova', 'went', 'give', 'dementieva', 'another', 'grand', 'slam', 'final', 'thrashing', 'latter', 'wayward', 'serve', 'becoming', 'one', 'talking', 'point', 'yearin', 'absence', 'myskina', 'thrashed', 'elena', 'dementieva', 'historic', 'woeful', 'allrussian', 'final', 'french', 'opena', 'quarterfinal', 'defeat', 'mario', 'ancic', 'wimbledon', 'disappointing', 'limp', 'manner', 'briton', 'defeat', 'remains', 'optimistic', 'going', 'next', 'yearhis', 'victory', 'houston', 'proved', 'successive', 'win', 'final', 'open', 'era', 'record'], ['greek', 'sprinter', 'kostas', 'kenteris', 'katerina', 'thanou', 'expected', 'find', 'wednesday', 'banned', 'missing', 'drug', 'test', 'summerkenteris', 'gold', 'sydney', 'olympics', 'thanou', 'silver', 'mthe', 'greek', 'authority', 'also', 'brought', 'criminal', 'charge', 'sprinter', 'avoiding', 'drug', 'test', 'faking', 'accidentbut', 'kenteris', 'thanou', 'went', 'skip', 'test', 'tel', 'aviv', 'chicago', 'decided', 'fly', 'back', 'greece', 'earlykenteris', 'thanou', 'appeal', 'decision', 'court', 'arbitration', 'sportkenteris', 'thanou', 'could', 'suspended', 'two', 'year'], ['umaga', 'england', 'saturday', 'irb', 'rugby', 'aid', 'match', 'also', 'backed', 'new', 'zealand', 'win', 'threetest', 'series', 'lionsumaga', 'meet', 'odriscoll', 'saturday', 'rugby', 'aid', 'match', 'twickenham', 'irish', 'captain', 'leading', 'northern', 'hemisphere', 'sideall', 'black', 'captain', 'tama', 'umaga', 'warned', 'british', 'irish', 'lion', 'fearsome', 'opponent', 'yet', 'ahead', 'summer', 'tourthe', 'yearold', 'admitted', 'interest', 'lion', 'tour', 'immense', 'calling', 'biggest', 'thing', 'hit', 'new', 'zealand', 'since', 'lord', 'ringsitll', 'good', 'get', 'early', 'idea', 'guy', 'although', 'lot', 'change', 'june', 'umaga', 'saidodriscoll', 'among', 'host', 'player', 'northern', 'hemisphere', 'squad', 'coached', 'woodward', 'tipped', 'lion', 'callupsit', 'great', 'new', 'zealand', 'rugby', 'gave', 'clearhe', 'added', 'player', 'enough', 'driven', 'rarity', 'playing', 'lionslions', 'bos', 'sir', 'clive', 'woodward', 'set', 'announce', 'squad', 'junejuly', 'tour', 'next', 'monthwhen', 'woodward', 'appointed', 'last', 'year', 'widely', 'believed', 'would', 'rely', 'heavily', 'former', 'england', 'playersthankfully', 'know', 'anyone', 'involved', 'tragedy', 'tsunami', 'miss', 'horrific', 'report', 'news']]\n"
          ]
        }
      ]
    },
    {
      "cell_type": "code",
      "source": [
        "texts = ag_texts + bbc_texts"
      ],
      "metadata": {
        "id": "repTkweZcIQh"
      },
      "execution_count": 7,
      "outputs": []
    },
    {
      "cell_type": "code",
      "source": [
        "from gensim import corpora\n",
        "from gensim.models.ldamodel import LdaModel\n",
        "\n",
        "dictionary = corpora.Dictionary(texts)\n",
        "print(dictionary)\n",
        "\n",
        "corpus = [dictionary.doc2bow(text) for text in texts]\n",
        "print(corpus[:5])"
      ],
      "metadata": {
        "colab": {
          "base_uri": "https://localhost:8080/"
        },
        "id": "7QyzMvUcbLdu",
        "outputId": "56231669-251b-44f1-a551-8e6af7c10df8"
      },
      "execution_count": 8,
      "outputs": [
        {
          "output_type": "stream",
          "name": "stdout",
          "text": [
            "Dictionary<82505 unique tokens: ['band', 'dwindling', 'green', 'seeing', 'shortsellers']...>\n",
            "[[(0, 1), (1, 1), (2, 1), (3, 1), (4, 1), (5, 1), (6, 1), (7, 1)], [(8, 1), (9, 1), (10, 1), (11, 1), (12, 1), (13, 1), (14, 1), (15, 1), (16, 1), (17, 1), (18, 1), (19, 1), (20, 1), (21, 1), (22, 1), (23, 1), (24, 1), (25, 1), (26, 1)], [(18, 1), (27, 1), (28, 1), (29, 1), (30, 1), (31, 1), (32, 1), (33, 1), (34, 1), (35, 1), (36, 1), (37, 1), (38, 1), (39, 1), (40, 1), (41, 1), (42, 1)], [(43, 1), (44, 1), (45, 1), (46, 1), (47, 1), (48, 1), (49, 1), (50, 1), (51, 1), (52, 1), (53, 1), (54, 2), (55, 1), (56, 1), (57, 1), (58, 1), (59, 1), (60, 1), (61, 1)], [(37, 1), (54, 1), (62, 1), (63, 1), (64, 1), (65, 1), (66, 1), (67, 1), (68, 1), (69, 1), (70, 1), (71, 1), (72, 1), (73, 1), (74, 1), (75, 1), (76, 1), (77, 1)]]\n"
          ]
        }
      ]
    },
    {
      "cell_type": "code",
      "source": [
        "from gensim import corpora\n",
        "from gensim.models.ldamodel import LdaModel\n",
        "\n",
        "dictionary = corpora.Dictionary(texts)\n",
        "\n",
        "corpus = [dictionary.doc2bow(text) for text in texts]\n",
        "\n",
        "# fit LDA model\n",
        "transcripts_topics = LdaModel(corpus=corpus,\n",
        "                           id2word=dictionary,\n",
        "                           num_topics=4,\n",
        "                           alpha='auto', ##Learns an asymmetric prior from the corpus;\n",
        "##1D array of length=number of expected topics that expresses our a-priori belief for the each topics’ probability.\n",
        "                           passes=100 ##Number of passes through the corpus during training.\n",
        "                             ) \n",
        "print(transcripts_topics)\n",
        "# print out first 5 topics\n",
        "for i, topic in enumerate(transcripts_topics.print_topics(4)):\n",
        "    print ('%d: %s\\n'%(i+1, topic))"
      ],
      "metadata": {
        "colab": {
          "base_uri": "https://localhost:8080/"
        },
        "id": "z03kvqhtbLbH",
        "outputId": "c35488b7-ffd9-46a6-999b-6a99d9a4f453"
      },
      "execution_count": 9,
      "outputs": [
        {
          "output_type": "stream",
          "name": "stdout",
          "text": [
            "LdaModel<num_terms=82505, num_topics=4, decay=0.5, chunksize=2000>\n",
            "1: (0, '0.021*\"said\" + 0.011*\"year\" + 0.009*\"company\" + 0.008*\"oil\" + 0.008*\"new\" + 0.007*\"price\" + 0.007*\"sale\" + 0.006*\"stock\" + 0.006*\"market\" + 0.006*\"bank\"')\n",
            "\n",
            "2: (1, '0.010*\"game\" + 0.007*\"first\" + 0.006*\"new\" + 0.006*\"last\" + 0.006*\"year\" + 0.005*\"one\" + 0.005*\"team\" + 0.005*\"point\" + 0.005*\"season\" + 0.005*\"win\"')\n",
            "\n",
            "3: (2, '0.021*\"said\" + 0.007*\"country\" + 0.007*\"government\" + 0.007*\"president\" + 0.006*\"minister\" + 0.006*\"official\" + 0.006*\"people\" + 0.005*\"would\" + 0.005*\"state\" + 0.004*\"two\"')\n",
            "\n",
            "4: (3, '0.010*\"new\" + 0.007*\"said\" + 0.007*\"service\" + 0.007*\"company\" + 0.005*\"technology\" + 0.005*\"software\" + 0.005*\"people\" + 0.005*\"music\" + 0.005*\"computer\" + 0.005*\"system\"')\n",
            "\n"
          ]
        }
      ]
    },
    {
      "cell_type": "code",
      "source": [
        "!pip install pyLDAvis"
      ],
      "metadata": {
        "id": "mVz68_VzbLVY",
        "colab": {
          "base_uri": "https://localhost:8080/"
        },
        "outputId": "7bf543a1-9062-4fb3-97ab-0e41a27cd65e"
      },
      "execution_count": 10,
      "outputs": [
        {
          "output_type": "stream",
          "name": "stdout",
          "text": [
            "Looking in indexes: https://pypi.org/simple, https://us-python.pkg.dev/colab-wheels/public/simple/\n",
            "Collecting pyLDAvis\n",
            "  Downloading pyLDAvis-3.4.1-py3-none-any.whl (2.6 MB)\n",
            "\u001b[2K     \u001b[90m━━━━━━━━━━━━━━━━━━━━━━━━━━━━━━━━━━━━━━━━\u001b[0m \u001b[32m2.6/2.6 MB\u001b[0m \u001b[31m42.3 MB/s\u001b[0m eta \u001b[36m0:00:00\u001b[0m\n",
            "\u001b[?25hRequirement already satisfied: jinja2 in /usr/local/lib/python3.9/dist-packages (from pyLDAvis) (3.1.2)\n",
            "Collecting pandas>=2.0.0\n",
            "  Downloading pandas-2.0.1-cp39-cp39-manylinux_2_17_x86_64.manylinux2014_x86_64.whl (12.4 MB)\n",
            "\u001b[2K     \u001b[90m━━━━━━━━━━━━━━━━━━━━━━━━━━━━━━━━━━━━━━━━\u001b[0m \u001b[32m12.4/12.4 MB\u001b[0m \u001b[31m94.9 MB/s\u001b[0m eta \u001b[36m0:00:00\u001b[0m\n",
            "\u001b[?25hCollecting funcy\n",
            "  Downloading funcy-2.0-py2.py3-none-any.whl (30 kB)\n",
            "Requirement already satisfied: joblib>=1.2.0 in /usr/local/lib/python3.9/dist-packages (from pyLDAvis) (1.2.0)\n",
            "Requirement already satisfied: numexpr in /usr/local/lib/python3.9/dist-packages (from pyLDAvis) (2.8.4)\n",
            "Requirement already satisfied: gensim in /usr/local/lib/python3.9/dist-packages (from pyLDAvis) (4.3.1)\n",
            "Collecting numpy>=1.24.2\n",
            "  Downloading numpy-1.24.3-cp39-cp39-manylinux_2_17_x86_64.manylinux2014_x86_64.whl (17.3 MB)\n",
            "\u001b[2K     \u001b[90m━━━━━━━━━━━━━━━━━━━━━━━━━━━━━━━━━━━━━━━━\u001b[0m \u001b[32m17.3/17.3 MB\u001b[0m \u001b[31m82.7 MB/s\u001b[0m eta \u001b[36m0:00:00\u001b[0m\n",
            "\u001b[?25hRequirement already satisfied: setuptools in /usr/local/lib/python3.9/dist-packages (from pyLDAvis) (67.7.1)\n",
            "Requirement already satisfied: scikit-learn>=1.0.0 in /usr/local/lib/python3.9/dist-packages (from pyLDAvis) (1.2.2)\n",
            "Requirement already satisfied: scipy in /usr/local/lib/python3.9/dist-packages (from pyLDAvis) (1.10.1)\n",
            "Requirement already satisfied: tzdata>=2022.1 in /usr/local/lib/python3.9/dist-packages (from pandas>=2.0.0->pyLDAvis) (2023.3)\n",
            "Requirement already satisfied: python-dateutil>=2.8.2 in /usr/local/lib/python3.9/dist-packages (from pandas>=2.0.0->pyLDAvis) (2.8.2)\n",
            "Requirement already satisfied: pytz>=2020.1 in /usr/local/lib/python3.9/dist-packages (from pandas>=2.0.0->pyLDAvis) (2022.7.1)\n",
            "Requirement already satisfied: threadpoolctl>=2.0.0 in /usr/local/lib/python3.9/dist-packages (from scikit-learn>=1.0.0->pyLDAvis) (3.1.0)\n",
            "Requirement already satisfied: smart-open>=1.8.1 in /usr/local/lib/python3.9/dist-packages (from gensim->pyLDAvis) (6.3.0)\n",
            "Requirement already satisfied: MarkupSafe>=2.0 in /usr/local/lib/python3.9/dist-packages (from jinja2->pyLDAvis) (2.1.2)\n",
            "Requirement already satisfied: six>=1.5 in /usr/local/lib/python3.9/dist-packages (from python-dateutil>=2.8.2->pandas>=2.0.0->pyLDAvis) (1.16.0)\n",
            "Installing collected packages: funcy, numpy, pandas, pyLDAvis\n",
            "  Attempting uninstall: numpy\n",
            "    Found existing installation: numpy 1.22.4\n",
            "    Uninstalling numpy-1.22.4:\n",
            "      Successfully uninstalled numpy-1.22.4\n",
            "  Attempting uninstall: pandas\n",
            "    Found existing installation: pandas 1.5.3\n",
            "    Uninstalling pandas-1.5.3:\n",
            "      Successfully uninstalled pandas-1.5.3\n",
            "\u001b[31mERROR: pip's dependency resolver does not currently take into account all the packages that are installed. This behaviour is the source of the following dependency conflicts.\n",
            "tensorflow 2.12.0 requires numpy<1.24,>=1.22, but you have numpy 1.24.3 which is incompatible.\n",
            "numba 0.56.4 requires numpy<1.24,>=1.18, but you have numpy 1.24.3 which is incompatible.\n",
            "google-colab 1.0.0 requires pandas~=1.5.3, but you have pandas 2.0.1 which is incompatible.\u001b[0m\u001b[31m\n",
            "\u001b[0mSuccessfully installed funcy-2.0 numpy-1.24.3 pandas-2.0.1 pyLDAvis-3.4.1\n"
          ]
        }
      ]
    },
    {
      "cell_type": "code",
      "source": [
        "!pip install pandas"
      ],
      "metadata": {
        "colab": {
          "base_uri": "https://localhost:8080/"
        },
        "id": "l8KmGLRWJ5ii",
        "outputId": "e20c2736-d959-493e-cbe3-f27cc1e33793"
      },
      "execution_count": 12,
      "outputs": [
        {
          "output_type": "stream",
          "name": "stderr",
          "text": [
            "/usr/local/lib/python3.9/dist-packages/ipykernel/ipkernel.py:283: DeprecationWarning: `should_run_async` will not call `transform_cell` automatically in the future. Please pass the result to `transformed_cell` argument and any exception that happen during thetransform in `preprocessing_exc_tuple` in IPython 7.17 and above.\n",
            "  and should_run_async(code)\n"
          ]
        },
        {
          "output_type": "stream",
          "name": "stdout",
          "text": [
            "Looking in indexes: https://pypi.org/simple, https://us-python.pkg.dev/colab-wheels/public/simple/\n",
            "Requirement already satisfied: pandas in /usr/local/lib/python3.9/dist-packages (2.0.1)\n",
            "Requirement already satisfied: python-dateutil>=2.8.2 in /usr/local/lib/python3.9/dist-packages (from pandas) (2.8.2)\n",
            "Requirement already satisfied: numpy>=1.20.3 in /usr/local/lib/python3.9/dist-packages (from pandas) (1.24.3)\n",
            "Requirement already satisfied: tzdata>=2022.1 in /usr/local/lib/python3.9/dist-packages (from pandas) (2023.3)\n",
            "Requirement already satisfied: pytz>=2020.1 in /usr/local/lib/python3.9/dist-packages (from pandas) (2022.7.1)\n",
            "Requirement already satisfied: six>=1.5 in /usr/local/lib/python3.9/dist-packages (from python-dateutil>=2.8.2->pandas) (1.16.0)\n"
          ]
        }
      ]
    },
    {
      "cell_type": "code",
      "source": [
        "!pip install \"pandas<2.0.0\""
      ],
      "metadata": {
        "colab": {
          "base_uri": "https://localhost:8080/"
        },
        "id": "lxF8oI8nLXOs",
        "outputId": "2cad8831-bc48-4c10-8fc7-8c06bb0dbce1"
      },
      "execution_count": 14,
      "outputs": [
        {
          "output_type": "stream",
          "name": "stderr",
          "text": [
            "/usr/local/lib/python3.9/dist-packages/ipykernel/ipkernel.py:283: DeprecationWarning: `should_run_async` will not call `transform_cell` automatically in the future. Please pass the result to `transformed_cell` argument and any exception that happen during thetransform in `preprocessing_exc_tuple` in IPython 7.17 and above.\n",
            "  and should_run_async(code)\n"
          ]
        },
        {
          "output_type": "stream",
          "name": "stdout",
          "text": [
            "Looking in indexes: https://pypi.org/simple, https://us-python.pkg.dev/colab-wheels/public/simple/\n",
            "Collecting pandas<2.0.0\n",
            "  Downloading pandas-1.5.3-cp39-cp39-manylinux_2_17_x86_64.manylinux2014_x86_64.whl (12.2 MB)\n",
            "\u001b[2K     \u001b[90m━━━━━━━━━━━━━━━━━━━━━━━━━━━━━━━━━━━━━━━━\u001b[0m \u001b[32m12.2/12.2 MB\u001b[0m \u001b[31m85.2 MB/s\u001b[0m eta \u001b[36m0:00:00\u001b[0m\n",
            "\u001b[?25hRequirement already satisfied: numpy>=1.20.3 in /usr/local/lib/python3.9/dist-packages (from pandas<2.0.0) (1.24.3)\n",
            "Requirement already satisfied: pytz>=2020.1 in /usr/local/lib/python3.9/dist-packages (from pandas<2.0.0) (2022.7.1)\n",
            "Requirement already satisfied: python-dateutil>=2.8.1 in /usr/local/lib/python3.9/dist-packages (from pandas<2.0.0) (2.8.2)\n",
            "Requirement already satisfied: six>=1.5 in /usr/local/lib/python3.9/dist-packages (from python-dateutil>=2.8.1->pandas<2.0.0) (1.16.0)\n",
            "Installing collected packages: pandas\n",
            "  Attempting uninstall: pandas\n",
            "    Found existing installation: pandas 2.0.1\n",
            "    Uninstalling pandas-2.0.1:\n",
            "      Successfully uninstalled pandas-2.0.1\n",
            "\u001b[31mERROR: pip's dependency resolver does not currently take into account all the packages that are installed. This behaviour is the source of the following dependency conflicts.\n",
            "pyldavis 3.4.1 requires pandas>=2.0.0, but you have pandas 1.5.3 which is incompatible.\u001b[0m\u001b[31m\n",
            "\u001b[0mSuccessfully installed pandas-1.5.3\n"
          ]
        }
      ]
    },
    {
      "cell_type": "code",
      "source": [
        "import pyLDAvis.gensim as gensimvis\n",
        "import pyLDAvis\n",
        "vis_data = gensimvis.prepare(transcripts_topics, corpus, dictionary)\n",
        "pyLDAvis.display(vis_data)"
      ],
      "metadata": {
        "colab": {
          "base_uri": "https://localhost:8080/",
          "height": 915
        },
        "id": "NYTLrBCubLSq",
        "outputId": "95900a5a-ed54-4a2b-ec03-5fb265088337"
      },
      "execution_count": 15,
      "outputs": [
        {
          "output_type": "stream",
          "name": "stderr",
          "text": [
            "/usr/local/lib/python3.9/dist-packages/ipykernel/ipkernel.py:283: DeprecationWarning: `should_run_async` will not call `transform_cell` automatically in the future. Please pass the result to `transformed_cell` argument and any exception that happen during thetransform in `preprocessing_exc_tuple` in IPython 7.17 and above.\n",
            "  and should_run_async(code)\n"
          ]
        },
        {
          "output_type": "execute_result",
          "data": {
            "text/plain": [
              "<IPython.core.display.HTML object>"
            ],
            "text/html": [
              "\n",
              "<link rel=\"stylesheet\" type=\"text/css\" href=\"https://cdn.jsdelivr.net/gh/bmabey/pyLDAvis@3.4.0/pyLDAvis/js/ldavis.v1.0.0.css\">\n",
              "\n",
              "\n",
              "<div id=\"ldavis_el13751405465391253284381220564\" style=\"background-color:white;\"></div>\n",
              "<script type=\"text/javascript\">\n",
              "\n",
              "var ldavis_el13751405465391253284381220564_data = {\"mdsDat\": {\"x\": [-0.0066541399357204776, -0.25202713944433014, 0.042773909694337954, 0.2159073696857126], \"y\": [0.20715842837612267, -0.01711330707091395, -0.22004750328602912, 0.030002381980820315], \"topics\": [1, 2, 3, 4], \"cluster\": [1, 1, 1, 1], \"Freq\": [29.29472686743848, 27.212481795121757, 21.838504663726628, 21.654286673713123]}, \"tinfo\": {\"Term\": [\"game\", \"said\", \"company\", \"oil\", \"country\", \"president\", \"price\", \"minister\", \"stock\", \"official\", \"service\", \"sale\", \"government\", \"team\", \"people\", \"technology\", \"season\", \"market\", \"win\", \"night\", \"growth\", \"economy\", \"bank\", \"firm\", \"music\", \"computer\", \"point\", \"system\", \"election\", \"software\", \"president\", \"country\", \"minister\", \"official\", \"election\", \"iraq\", \"prime\", \"foreign\", \"bush\", \"party\", \"palestinian\", \"police\", \"force\", \"killed\", \"blair\", \"aid\", \"iraqi\", \"military\", \"labour\", \"political\", \"house\", \"secretary\", \"authority\", \"spokesman\", \"space\", \"baghdad\", \"council\", \"israeli\", \"presidential\", \"nuclear\", \"bbc\", \"vote\", \"northern\", \"russian\", \"government\", \"leader\", \"afp\", \"said\", \"india\", \"state\", \"people\", \"nation\", \"court\", \"would\", \"say\", \"two\", \"european\", \"united\", \"year\", \"friday\", \"could\", \"one\", \"wednesday\", \"thursday\", \"game\", \"team\", \"season\", \"win\", \"night\", \"coach\", \"sport\", \"victory\", \"league\", \"cup\", \"champion\", \"play\", \"final\", \"lead\", \"england\", \"football\", \"club\", \"title\", \"brown\", \"star\", \"red\", \"scored\", \"match\", \"championship\", \"award\", \"round\", \"minute\", \"williams\", \"david\", \"goal\", \"field\", \"point\", \"best\", \"player\", \"second\", \"first\", \"last\", \"one\", \"time\", \"sunday\", \"world\", \"two\", \"new\", \"year\", \"back\", \"technology\", \"music\", \"computer\", \"system\", \"internet\", \"phone\", \"mobile\", \"microsoft\", \"online\", \"search\", \"film\", \"use\", \"user\", \"web\", \"wireless\", \"digital\", \"google\", \"version\", \"using\", \"apple\", \"email\", \"device\", \"access\", \"development\", \"window\", \"movie\", \"ibm\", \"engine\", \"personal\", \"dvd\", \"available\", \"software\", \"service\", \"video\", \"card\", \"site\", \"make\", \"new\", \"company\", \"people\", \"also\", \"announced\", \"network\", \"business\", \"could\", \"said\", \"firm\", \"one\", \"say\", \"year\", \"would\", \"oil\", \"price\", \"stock\", \"growth\", \"economy\", \"dollar\", \"rate\", \"profit\", \"euro\", \"percent\", \"billion\", \"target\", \"financial\", \"cut\", \"tax\", \"federal\", \"rise\", \"yukos\", \"drug\", \"rose\", \"investment\", \"fell\", \"investor\", \"spending\", \"airline\", \"pay\", \"hrefhttp\", \"agt\", \"higher\", \"lta\", \"\\u00a3bn\", \"low\", \"debt\", \"sale\", \"share\", \"bank\", \"executive\", \"market\", \"company\", \"said\", \"firm\", \"year\", \"economic\", \"inc\", \"million\", \"new\", \"chief\", \"deal\", \"would\", \"york\", \"month\", \"business\"], \"Freq\": [7085.0, 31986.0, 8588.0, 4409.0, 5322.0, 5220.0, 3779.0, 4591.0, 3462.0, 4238.0, 4173.0, 4190.0, 6654.0, 3608.0, 6808.0, 2955.0, 3384.0, 4750.0, 3241.0, 3192.0, 2713.0, 2641.0, 3806.0, 4663.0, 2618.0, 2557.0, 3631.0, 2532.0, 3101.0, 2946.0, 5219.4924559962965, 5322.3625582355835, 4591.154315819262, 4238.3916620286645, 3100.9611399332994, 2680.0656104893415, 2421.1436928564985, 2579.3932062046983, 2235.9731002040076, 2207.317228231407, 1833.145628853792, 1829.830175716908, 1807.4594723335204, 1598.0857157007872, 1507.973317065347, 1596.9727082650736, 1386.040673397391, 1370.1047773999892, 1627.286391587304, 1361.333739598211, 1518.2833877724045, 1233.586802059046, 1284.959284661965, 1405.4267398393665, 1297.372522299076, 1062.1285491869812, 1144.7941921767863, 979.2795244875899, 992.7550704100066, 958.1366222684318, 1345.7952130288402, 1014.4908474766621, 999.2297249543398, 2117.907326519514, 5272.89612630068, 3054.0883341008753, 1741.7749078264521, 15575.599687247965, 2048.7172294521256, 3804.8728919449854, 4100.297350059734, 2073.4875795799094, 2079.2216704472958, 3857.2432491303503, 2823.8411098643633, 3223.4567306893982, 2120.701544912738, 2102.419329538175, 2791.475213106051, 1953.2410641783665, 2000.75057673247, 2069.165095492279, 1947.3433456181917, 1907.3025470374084, 7085.000504913552, 3607.4873123662983, 3383.8435576613037, 3240.730266840702, 3191.668100178937, 2538.2097378063213, 2352.3107396740957, 2328.45521682687, 2274.113314233146, 1994.8705694501502, 1921.5403611939703, 2100.898755669435, 2155.2909039601254, 2095.8078742536577, 2111.089654082257, 1797.4089181249287, 1894.5220371082676, 1585.0339029121833, 1916.2508596406567, 1488.3378704666673, 1443.8661758813057, 1319.5117773763545, 1343.3588734374118, 1301.453804657876, 1272.8487246121927, 1201.0781018372265, 1074.300490401332, 990.3196907336003, 1063.857339688539, 976.7665046396456, 1085.5122900206868, 3431.2981770402052, 2449.6235813651233, 2855.2780418032876, 2667.237852434216, 4586.137400602076, 3898.3913116159592, 3644.8483745258727, 2917.805110191767, 2126.214081399042, 3003.0936368157963, 3032.692920119312, 3946.28160371526, 3755.8721485977244, 2152.6608016154996, 2955.093968542824, 2617.905607009611, 2557.2761379513354, 2532.373669920132, 2422.217607766693, 2431.3998919749033, 2260.683883302691, 2191.227579819987, 2012.9403137867555, 1958.3561455497359, 2128.837294443048, 1754.874164010157, 1570.0572146622653, 1324.1473969291621, 1222.748014637563, 1200.5071222277368, 1191.318264979428, 1131.5352012384371, 1155.6599016595374, 1040.7815526115685, 1050.1171024182268, 1017.1068526279731, 993.3319769851861, 1028.6508807053804, 879.2700753602072, 858.0619718758397, 814.3344434074768, 812.0723695790026, 889.6644534434832, 719.6443021893789, 736.7445084214899, 2760.703639100868, 3758.202165080727, 1395.5306123976313, 1109.9755033111146, 1176.0492192354952, 2447.4429131904208, 5336.234626260828, 3607.5551646842937, 2707.547716634457, 2387.8393440059626, 1632.3021347293363, 1648.602389341012, 1798.8780129718866, 2169.4945811623784, 3865.873618076976, 1796.7483479800096, 2121.549057020111, 1904.0558820831195, 2361.15962705585, 1830.4574256968772, 4409.116362124465, 3778.6191632270393, 3462.2190804921793, 2712.861783519265, 2640.9787441805333, 2437.744137596397, 2269.6569069893408, 2173.016538314268, 2066.7939285692873, 1899.8218331311493, 1915.6865329182504, 1913.0917787014416, 1869.3425581129536, 1827.0501449953365, 1692.3880163003826, 1538.0941441517161, 1521.4197587187555, 1454.804689611522, 1538.63197094837, 1360.4393370599782, 1289.321738934755, 1284.4262742356866, 1205.3579641507956, 1243.9246952524413, 1160.7569442357965, 1224.1751337635728, 1045.9166345799956, 1013.9675795732284, 1042.9026863008683, 1004.0892266862389, 1256.4837217850686, 1072.8275898621541, 1069.080349652516, 3717.384367499708, 2632.6753301454087, 3067.3128301061247, 1939.4571988793273, 3251.582242503527, 4980.605526159008, 11253.60370580528, 2866.0618280160093, 5757.032394077369, 1900.071632433347, 2208.584048391181, 2571.0173921981977, 4188.1170519288335, 1923.2260097998897, 2035.021788622757, 2817.5619085056924, 2048.967934511844, 2064.722336563905, 1975.764079796012], \"Total\": [7085.0, 31986.0, 8588.0, 4409.0, 5322.0, 5220.0, 3779.0, 4591.0, 3462.0, 4238.0, 4173.0, 4190.0, 6654.0, 3608.0, 6808.0, 2955.0, 3384.0, 4750.0, 3241.0, 3192.0, 2713.0, 2641.0, 3806.0, 4663.0, 2618.0, 2557.0, 3631.0, 2532.0, 3101.0, 2946.0, 5220.04335367801, 5322.94192445338, 4591.691384235175, 4238.949186460743, 3101.4950733153833, 2680.587625993934, 2421.666858753433, 2579.987162952248, 2236.5132399635168, 2207.8667443671097, 1833.6635835619813, 1830.3569306565587, 1808.0177367333754, 1598.6041728412501, 1508.52596832915, 1597.5650126866253, 1386.5582842962956, 1370.627189169209, 1627.927480898855, 1361.8742178988223, 1518.890731777348, 1234.119180554047, 1285.5260241332542, 1406.0818927708458, 1297.9784210679284, 1062.6457565414669, 1145.3577927589463, 979.7985720462495, 993.2866863994802, 958.6555279021339, 1347.1915106875279, 1015.0626763022797, 999.8039687834898, 2224.1300259356885, 6654.2624611022275, 3553.137802021119, 1916.2446056057984, 31986.485535390464, 2410.7878863314336, 5995.769352410359, 6808.224054112774, 2791.9804997628153, 2880.7102519054642, 10226.122890925482, 5793.859327628223, 8095.990479137137, 3771.1330345932206, 3785.1765653767843, 14665.539382836994, 4941.641546857184, 6167.375872027134, 8398.8291829331, 5079.95493542728, 5052.66492407117, 7085.548930132206, 3608.009451135794, 3384.368764246401, 3241.2649588458826, 3192.195891264968, 2538.717837093886, 2352.8316543724914, 2328.9786284985366, 2274.624572724546, 1995.3777207048954, 1922.0485806211, 2101.4576224323405, 2155.8653156362593, 2096.369714656969, 2111.6658508735536, 1797.9234739637316, 1895.0753342411958, 1585.568169770195, 1916.9384759743907, 1488.8816793845742, 1444.4059263828728, 1320.0188300058267, 1343.8778964618907, 1301.9612662809345, 1273.4127986480205, 1201.6284681836885, 1074.8414121134108, 990.8366665056304, 1064.4244117510236, 977.3083469066867, 1086.1525575734718, 3631.431344160907, 3043.94029642337, 3749.291992858067, 3708.56663793449, 8113.273560988884, 7646.907845436866, 8398.8291829331, 6413.688820074339, 3548.88987466453, 7679.9957822169, 8095.990479137137, 15266.923510972463, 14665.539382836994, 3720.0857152131325, 2955.6575723466826, 2618.4591158946005, 2557.8280330421944, 2532.9337982720403, 2422.766989026296, 2431.9518445916756, 2261.2345202471397, 2191.7728363026877, 2013.5135159746344, 1958.9148078505636, 2129.526074997881, 1755.4689175905862, 1570.6018235175068, 1324.6962484015357, 1223.2983510434196, 1201.0534824804595, 1191.862912397837, 1132.0838012249492, 1156.237911668615, 1041.330877367812, 1050.6761924128828, 1017.6647369627434, 993.9306525138414, 1029.2845286888407, 879.8220749552476, 858.6335647210597, 814.8808145551421, 812.6264187046758, 890.3011829781617, 720.1903346295381, 737.3326332684725, 2946.444998595188, 4173.751756655268, 1498.4493429412098, 1224.2658476478864, 1355.160085976193, 4263.850500527323, 15266.923510972463, 8588.577349661227, 6808.224054112774, 5817.962835108752, 2842.41436904525, 2965.987171441619, 3775.0673280327765, 6167.375872027134, 31986.485535390464, 4663.256025887247, 8398.8291829331, 5793.859327628223, 14665.539382836994, 10226.122890925482, 4409.706135020435, 3779.2112946263446, 3462.803265931356, 2713.4674977490486, 2641.5915557298135, 2438.3575822096545, 2270.2679270943554, 2173.605380551098, 2067.3946283556534, 1900.409542621137, 1916.2822235922222, 1913.7134374951877, 1869.9603213670766, 1827.6823577909454, 1693.0404695300635, 1538.7067330070254, 1522.0507066824614, 1455.4126739695218, 1539.278869181984, 1361.0468295709295, 1289.9360411915604, 1285.0426453046007, 1205.9569945193657, 1244.5583274166877, 1161.357668588924, 1224.8181441839545, 1046.5088988328303, 1014.5478698357921, 1043.5052606881422, 1004.6698303704969, 1257.8173738374117, 1073.4735946068733, 1069.700156889158, 4190.143853021325, 2915.3782217537846, 3806.2549545751567, 2289.6187827329213, 4750.073897671, 8588.577349661227, 31986.485535390464, 4663.256025887247, 14665.539382836994, 2464.544748386884, 3321.6058553456232, 4413.763636592706, 15266.923510972463, 2761.2470812707866, 3293.404314161973, 10226.122890925482, 3473.0991585113347, 4601.27512249022, 3775.0673280327765], \"Category\": [\"Default\", \"Default\", \"Default\", \"Default\", \"Default\", \"Default\", \"Default\", \"Default\", \"Default\", \"Default\", \"Default\", \"Default\", \"Default\", \"Default\", \"Default\", \"Default\", \"Default\", \"Default\", \"Default\", \"Default\", \"Default\", \"Default\", \"Default\", \"Default\", \"Default\", \"Default\", \"Default\", \"Default\", \"Default\", \"Default\", \"Topic1\", \"Topic1\", \"Topic1\", \"Topic1\", \"Topic1\", \"Topic1\", \"Topic1\", \"Topic1\", \"Topic1\", \"Topic1\", \"Topic1\", \"Topic1\", \"Topic1\", \"Topic1\", \"Topic1\", \"Topic1\", \"Topic1\", \"Topic1\", \"Topic1\", \"Topic1\", \"Topic1\", \"Topic1\", \"Topic1\", \"Topic1\", \"Topic1\", \"Topic1\", \"Topic1\", \"Topic1\", \"Topic1\", \"Topic1\", \"Topic1\", \"Topic1\", \"Topic1\", \"Topic1\", \"Topic1\", \"Topic1\", \"Topic1\", \"Topic1\", \"Topic1\", \"Topic1\", \"Topic1\", \"Topic1\", \"Topic1\", \"Topic1\", \"Topic1\", \"Topic1\", \"Topic1\", \"Topic1\", \"Topic1\", \"Topic1\", \"Topic1\", \"Topic1\", \"Topic1\", \"Topic1\", \"Topic2\", \"Topic2\", \"Topic2\", \"Topic2\", \"Topic2\", \"Topic2\", \"Topic2\", \"Topic2\", \"Topic2\", \"Topic2\", \"Topic2\", \"Topic2\", \"Topic2\", \"Topic2\", \"Topic2\", \"Topic2\", \"Topic2\", \"Topic2\", \"Topic2\", \"Topic2\", \"Topic2\", \"Topic2\", \"Topic2\", \"Topic2\", \"Topic2\", \"Topic2\", \"Topic2\", \"Topic2\", \"Topic2\", \"Topic2\", \"Topic2\", \"Topic2\", \"Topic2\", \"Topic2\", \"Topic2\", \"Topic2\", \"Topic2\", \"Topic2\", \"Topic2\", \"Topic2\", \"Topic2\", \"Topic2\", \"Topic2\", \"Topic2\", \"Topic2\", \"Topic3\", \"Topic3\", \"Topic3\", \"Topic3\", \"Topic3\", \"Topic3\", \"Topic3\", \"Topic3\", \"Topic3\", \"Topic3\", \"Topic3\", \"Topic3\", \"Topic3\", \"Topic3\", \"Topic3\", \"Topic3\", \"Topic3\", \"Topic3\", \"Topic3\", \"Topic3\", \"Topic3\", \"Topic3\", \"Topic3\", \"Topic3\", \"Topic3\", \"Topic3\", \"Topic3\", \"Topic3\", \"Topic3\", \"Topic3\", \"Topic3\", \"Topic3\", \"Topic3\", \"Topic3\", \"Topic3\", \"Topic3\", \"Topic3\", \"Topic3\", \"Topic3\", \"Topic3\", \"Topic3\", \"Topic3\", \"Topic3\", \"Topic3\", \"Topic3\", \"Topic3\", \"Topic3\", \"Topic3\", \"Topic3\", \"Topic3\", \"Topic3\", \"Topic4\", \"Topic4\", \"Topic4\", \"Topic4\", \"Topic4\", \"Topic4\", \"Topic4\", \"Topic4\", \"Topic4\", \"Topic4\", \"Topic4\", \"Topic4\", \"Topic4\", \"Topic4\", \"Topic4\", \"Topic4\", \"Topic4\", \"Topic4\", \"Topic4\", \"Topic4\", \"Topic4\", \"Topic4\", \"Topic4\", \"Topic4\", \"Topic4\", \"Topic4\", \"Topic4\", \"Topic4\", \"Topic4\", \"Topic4\", \"Topic4\", \"Topic4\", \"Topic4\", \"Topic4\", \"Topic4\", \"Topic4\", \"Topic4\", \"Topic4\", \"Topic4\", \"Topic4\", \"Topic4\", \"Topic4\", \"Topic4\", \"Topic4\", \"Topic4\", \"Topic4\", \"Topic4\", \"Topic4\", \"Topic4\", \"Topic4\", \"Topic4\", \"Topic4\"], \"logprob\": [30.0, 29.0, 28.0, 27.0, 26.0, 25.0, 24.0, 23.0, 22.0, 21.0, 20.0, 19.0, 18.0, 17.0, 16.0, 15.0, 14.0, 13.0, 12.0, 11.0, 10.0, 9.0, 8.0, 7.0, 6.0, 5.0, 4.0, 3.0, 2.0, 1.0, -4.9383, -4.9187, -5.0665, -5.1465, -5.459, -5.6048, -5.7064, -5.6431, -5.786, -5.7989, -5.9846, -5.9864, -5.9987, -6.1219, -6.1799, -6.1226, -6.2642, -6.2758, -6.1038, -6.2822, -6.1731, -6.3807, -6.3399, -6.2503, -6.3303, -6.5304, -6.4554, -6.6116, -6.5979, -6.6334, -6.2937, -6.5763, -6.5914, -5.8402, -4.9281, -5.4742, -6.0358, -3.845, -5.8735, -5.2544, -5.1796, -5.8614, -5.8587, -5.2407, -5.5526, -5.4202, -5.8389, -5.8476, -5.5641, -5.9212, -5.8971, -5.8635, -5.9242, -5.945, -4.559, -5.2339, -5.2979, -5.3411, -5.3564, -5.5855, -5.6615, -5.6717, -5.6953, -5.8264, -5.8638, -5.7746, -5.749, -5.777, -5.7697, -5.9306, -5.878, -6.0563, -5.8666, -6.1193, -6.1496, -6.2397, -6.2218, -6.2535, -6.2757, -6.3337, -6.4453, -6.5267, -6.455, -6.5404, -6.4349, -5.284, -5.621, -5.4678, -5.5359, -4.9939, -5.1564, -5.2236, -5.4461, -5.7626, -5.4173, -5.4075, -5.1442, -5.1936, -5.7502, -5.2134, -5.3346, -5.358, -5.3678, -5.4122, -5.4085, -5.4813, -5.5125, -5.5973, -5.6248, -5.5414, -5.7345, -5.8458, -6.0162, -6.0958, -6.1142, -6.1219, -6.1734, -6.1523, -6.257, -6.248, -6.28, -6.3036, -6.2687, -6.4256, -6.45, -6.5023, -6.5051, -6.4138, -6.6259, -6.6024, -5.2814, -4.973, -5.9637, -6.1926, -6.1348, -5.4019, -4.6224, -5.0139, -5.3009, -5.4265, -5.8069, -5.797, -5.7098, -5.5224, -4.9447, -5.711, -5.5448, -5.6529, -5.4378, -5.6924, -4.8048, -4.9591, -5.0466, -5.2905, -5.3173, -5.3974, -5.4688, -5.5123, -5.5625, -5.6467, -5.6384, -5.6397, -5.6629, -5.6858, -5.7623, -5.8579, -5.8688, -5.9136, -5.8576, -5.9807, -6.0343, -6.0381, -6.1017, -6.0702, -6.1394, -6.0862, -6.2436, -6.2746, -6.2465, -6.2844, -6.0601, -6.2182, -6.2217, -4.9754, -5.3205, -5.1677, -5.6261, -5.1093, -4.6829, -3.8678, -5.2355, -4.538, -5.6466, -5.4961, -5.3442, -4.8562, -5.6345, -5.578, -5.2526, -5.5711, -5.5635, -5.6075], \"loglift\": [30.0, 29.0, 28.0, 27.0, 26.0, 25.0, 24.0, 23.0, 22.0, 21.0, 20.0, 19.0, 18.0, 17.0, 16.0, 15.0, 14.0, 13.0, 12.0, 11.0, 10.0, 9.0, 8.0, 7.0, 6.0, 5.0, 4.0, 3.0, 2.0, 1.0, 1.2277, 1.2277, 1.2276, 1.2276, 1.2276, 1.2276, 1.2275, 1.2275, 1.2275, 1.2275, 1.2275, 1.2275, 1.2275, 1.2274, 1.2274, 1.2274, 1.2274, 1.2274, 1.2274, 1.2274, 1.2274, 1.2273, 1.2273, 1.2273, 1.2273, 1.2273, 1.2273, 1.2272, 1.2272, 1.2272, 1.2267, 1.2272, 1.2272, 1.1788, 0.9951, 1.0764, 1.1323, 0.5082, 1.065, 0.773, 0.7207, 0.9302, 0.9017, 0.2528, 0.5091, 0.3068, 0.6521, 0.6398, -0.4312, 0.2996, 0.102, -0.1732, 0.2689, 0.2535, 1.3014, 1.3013, 1.3013, 1.3013, 1.3013, 1.3013, 1.3013, 1.3013, 1.3013, 1.3012, 1.3012, 1.3012, 1.3012, 1.3012, 1.3012, 1.3012, 1.3012, 1.3012, 1.3011, 1.3011, 1.3011, 1.3011, 1.3011, 1.3011, 1.3011, 1.301, 1.301, 1.301, 1.301, 1.3009, 1.3009, 1.2448, 1.0843, 1.0291, 0.9719, 0.731, 0.6278, 0.4667, 0.5139, 0.7892, 0.3625, 0.3196, -0.0514, -0.0607, 0.7545, 1.5213, 1.5213, 1.5213, 1.5213, 1.5213, 1.5213, 1.5213, 1.5212, 1.5212, 1.5212, 1.5212, 1.5212, 1.5211, 1.5211, 1.521, 1.521, 1.521, 1.521, 1.521, 1.521, 1.521, 1.5209, 1.5209, 1.5209, 1.5209, 1.5208, 1.5208, 1.5208, 1.5208, 1.5207, 1.5207, 1.4564, 1.4166, 1.4503, 1.4235, 1.3797, 0.9664, 0.4703, 0.6541, 0.5994, 0.6309, 0.9668, 0.9342, 0.7802, 0.4767, -0.5916, 0.5678, 0.1455, 0.4087, -0.3049, -0.1989, 1.5298, 1.5298, 1.5298, 1.5297, 1.5297, 1.5297, 1.5297, 1.5297, 1.5297, 1.5297, 1.5297, 1.5296, 1.5296, 1.5296, 1.5296, 1.5296, 1.5296, 1.5295, 1.5295, 1.5295, 1.5295, 1.5295, 1.5295, 1.5295, 1.5294, 1.5294, 1.5294, 1.5294, 1.5294, 1.5294, 1.5289, 1.5294, 1.5294, 1.4103, 1.428, 1.3141, 1.364, 1.1509, 0.9851, 0.4853, 1.0432, 0.5949, 1.2699, 1.1219, 0.9895, 0.2365, 1.1683, 1.0486, 0.2409, 1.0023, 0.7286, 0.8825]}, \"token.table\": {\"Topic\": [3, 1, 2, 4, 1, 4, 1, 2, 3, 4, 1, 2, 3, 4, 3, 1, 3, 2, 1, 2, 3, 4, 1, 1, 4, 1, 2, 3, 2, 3, 4, 4, 1, 2, 1, 3, 4, 2, 3, 2, 2, 1, 4, 2, 2, 3, 4, 3, 1, 2, 3, 4, 1, 1, 1, 4, 2, 4, 2, 1, 3, 4, 4, 3, 3, 3, 4, 4, 3, 1, 4, 4, 1, 3, 3, 2, 4, 1, 2, 3, 4, 3, 4, 4, 4, 2, 3, 2, 4, 3, 4, 1, 2, 3, 4, 2, 1, 1, 1, 2, 3, 4, 2, 2, 3, 1, 4, 4, 4, 1, 4, 3, 3, 4, 1, 2, 3, 4, 4, 1, 1, 1, 1, 1, 1, 2, 3, 4, 2, 1, 2, 3, 2, 4, 4, 1, 2, 3, 4, 3, 4, 2, 3, 1, 1, 2, 3, 4, 1, 2, 3, 1, 2, 3, 4, 3, 3, 1, 2, 4, 2, 3, 4, 1, 2, 3, 4, 2, 1, 1, 1, 4, 1, 2, 3, 4, 3, 1, 1, 4, 1, 3, 4, 3, 3, 2, 2, 3, 2, 3, 1, 1, 1, 1, 4, 1, 4, 4, 2, 4, 4, 2, 1, 2, 1, 2, 3, 4, 3, 4, 1, 2, 3, 4, 2, 3, 2, 1, 2, 3, 4, 1, 3, 4, 3, 4, 1, 3, 3, 4, 1, 4, 1, 2, 2, 1, 2, 4, 4, 1, 2, 3, 4, 4, 2, 3, 1, 2, 3, 4, 1, 2, 3, 4, 2, 1, 2, 3, 4, 1, 2, 4, 3, 3, 3, 3, 2, 1, 3, 1, 3, 1, 2, 3, 4, 2, 2, 3, 3, 1, 2, 3, 4, 1, 2, 3, 4, 1, 2, 3, 4, 2, 4, 4, 1, 4], \"Freq\": [0.9990636645408937, 0.9090697476219571, 0.09080260395305427, 0.9994599862144693, 0.9996463288303522, 0.9996920254641632, 0.18442881647935844, 0.19766368960975042, 0.4104529485113774, 0.20763281482485088, 0.12454201043140183, 0.09956324562736361, 0.5741597769040898, 0.20158918637625212, 0.999682255299441, 0.9995908102026881, 0.9995488694607236, 0.9996758328104925, 0.1551039530192498, 0.578750105460043, 0.08037449211916065, 0.185748408208495, 0.9993923125016105, 0.19415409866638456, 0.8057789182811926, 0.9991155595339821, 0.0007422849625066732, 0.0007422849625066732, 0.8048778101458659, 0.14520652738141746, 0.04993527638455984, 0.9998527233678068, 0.9996513362446571, 0.9995104297888779, 0.9997705178067602, 0.47654779204626163, 0.523434373031358, 0.09311703027493728, 0.9066658210980736, 0.9999747245612886, 0.9992616782804297, 0.3034860609483502, 0.6964244572836246, 0.9999602473633451, 0.9997172442390417, 0.420092857420946, 0.5799563533297483, 0.9996762749365876, 0.3244491727958033, 0.17625000041431196, 0.351689283255421, 0.14755059832292905, 0.9996876148560666, 0.9998230443865914, 0.7216970185129976, 0.2780564270461333, 0.9998107021537948, 0.9996266540583287, 0.9996012758197405, 0.18552231724864085, 0.19645325574446912, 0.6179016621947366, 0.9993454643484448, 0.9997235665348986, 0.9993468016149136, 0.9999554703589477, 0.9998533512015368, 0.9998188312803046, 0.9997357162122482, 0.22884551005582446, 0.77093345586182, 0.9997760608643186, 0.9998403759142993, 0.99935642168561, 0.9992291430720721, 0.9996846798117808, 0.9998091180318258, 0.5624304368325699, 0.11720615421027623, 0.02890378011067898, 0.29168952405272364, 0.15286387526146822, 0.846865868948534, 0.9995406967475574, 0.9991886298027459, 0.9998595431439092, 0.9997529614668458, 0.9995986225902039, 0.9994864482651832, 0.38535306447346446, 0.6145920327106005, 0.17674739908871226, 0.5652465636128553, 0.15517780714971321, 0.1027945124407155, 0.9994863663681438, 0.9994370980368732, 0.999617376796899, 0.3952128015521646, 0.2628681153181064, 0.0291401144001596, 0.31264914408504574, 0.9999225282137463, 0.9996844937345899, 0.9992759969381874, 0.792424409290067, 0.2075361481565679, 0.999827712051301, 0.9995158043690081, 0.9994135642816744, 0.9995137176249549, 0.998919087872227, 0.33507888908878053, 0.6650397717853694, 0.8499296066722913, 0.15015837853361125, 0.9996834243533241, 0.9992743506951741, 0.9992064439082696, 0.9997807846353405, 0.9995973596619641, 0.9991849630433919, 0.9996220622643713, 0.9994302689095568, 0.17915738330984582, 0.5097485256509336, 0.06538590631746198, 0.2455894641283872, 0.9998236405275348, 0.8595219690783745, 0.07655205487534966, 0.06388719285553078, 0.999725417226194, 0.9995588204411802, 0.9993332830844041, 0.14658112424971384, 0.18199512386844469, 0.5738944176624796, 0.09732986650180998, 0.31536351481489194, 0.684620928022716, 0.9993467438788881, 0.9996473921521943, 0.9995424071737631, 0.08156304452177446, 0.09447719323772208, 0.2415172373894766, 0.5824960762930059, 0.9998494271114238, 0.9992171755722025, 0.9998962866323506, 0.26601321751383744, 0.15691302536355445, 0.12822532543559156, 0.4487886390245705, 0.9992621244415649, 0.9998246618051764, 0.7424836957765664, 0.11318130625441147, 0.14398381365276397, 0.4238049348639073, 0.555970037860448, 0.020229352499470516, 0.11763994223912892, 0.25846726730267416, 0.34951377048329174, 0.2743185290075011, 0.9999386343220653, 0.9991958735826303, 0.9993162007800983, 0.9997760797737858, 0.9998398680096102, 0.24634385995185212, 0.4339890621191402, 0.2526542633242292, 0.06703315280468475, 0.9997449652209631, 0.9996381105193286, 0.9996074290401261, 0.9993320280338437, 0.6022128483746411, 0.3977542422923239, 0.9997844977032834, 0.9996617066404941, 0.999608608783191, 0.9997822357075129, 0.7614771016603717, 0.23844501887368558, 0.9448065169996435, 0.055074702244222874, 0.9998049939601503, 0.9993580773559462, 0.9998001254764914, 0.9997113759769404, 0.9999440902850166, 0.9997246282034943, 0.9997214855297495, 0.9998819843723475, 0.99971896654849, 0.9993096769523852, 0.9992308643992364, 0.999476986272938, 0.9522824543987531, 0.04765908412005091, 0.48695565452998624, 0.04036079545443068, 0.12086354394022385, 0.3518360898870355, 0.11264529728726662, 0.8870817161372246, 0.48741259328366093, 0.0895775977033357, 0.3286237881062643, 0.09441030046960429, 0.9999857350475625, 0.9995330027386095, 0.9998910389877437, 0.10354404746893568, 0.7191457671865923, 0.034784328446595576, 0.14237306526978655, 0.9999034286510371, 0.9003889591678926, 0.0994309255068322, 0.09672844432183456, 0.9031418223382638, 0.13208771557867785, 0.8677941537459506, 0.9370614422860075, 0.06278752872977594, 0.999246196198606, 0.9995513850943036, 0.9992305620487625, 0.9996465304387818, 0.999407824411582, 0.6346141381289713, 0.21198280408986137, 0.153441526170474, 0.9997680301565905, 0.4006886801846504, 0.5990605724842242, 0.9996313372766878, 0.9996271973216003, 0.9993854432018673, 0.9997202193759565, 0.9997775207950897, 0.37742459249869276, 0.21592565831991287, 0.07283285266886154, 0.33368529782527323, 0.13299678608200907, 0.45496438662051875, 0.21422928965613183, 0.1978580557304449, 0.9996416617203678, 0.3980982942489211, 0.3746298872035302, 0.12302386009057568, 0.10424913445426293, 0.5553241608930765, 0.2504506681858404, 0.19417852438459143, 0.9997328818608593, 0.9996168198021324, 0.9997942364056619, 0.9999259761292772, 0.9995798035728788, 0.06873772575976972, 0.9316297588411507, 0.9989530929201822, 0.9994744090183875, 0.3832711165254138, 0.2533487041439176, 0.060827311251336856, 0.3023648869969366, 0.9991555959383487, 0.9999182544934626, 0.99906563499752, 0.9997561093390135, 0.1882813534023321, 0.3910158397421876, 0.19309906438150656, 0.2276042916647832, 0.3771712936701208, 0.1682944766415032, 0.17895345279137181, 0.27556875954430915, 0.1903100818280365, 0.25611059381802403, 0.16098964643353425, 0.3925528989910448, 0.41000844922906415, 0.5899630003303037, 0.9997164556988526, 0.0007950279752847986, 0.998555136957707], \"Term\": [\"access\", \"afp\", \"afp\", \"agt\", \"aid\", \"airline\", \"also\", \"also\", \"also\", \"also\", \"announced\", \"announced\", \"announced\", \"announced\", \"apple\", \"authority\", \"available\", \"award\", \"back\", \"back\", \"back\", \"back\", \"baghdad\", \"bank\", \"bank\", \"bbc\", \"bbc\", \"bbc\", \"best\", \"best\", \"best\", \"billion\", \"blair\", \"brown\", \"bush\", \"business\", \"business\", \"card\", \"card\", \"champion\", \"championship\", \"chief\", \"chief\", \"club\", \"coach\", \"company\", \"company\", \"computer\", \"could\", \"could\", \"could\", \"could\", \"council\", \"country\", \"court\", \"court\", \"cup\", \"cut\", \"david\", \"deal\", \"deal\", \"deal\", \"debt\", \"development\", \"device\", \"digital\", \"dollar\", \"drug\", \"dvd\", \"economic\", \"economic\", \"economy\", \"election\", \"email\", \"engine\", \"england\", \"euro\", \"european\", \"european\", \"european\", \"european\", \"executive\", \"executive\", \"federal\", \"fell\", \"field\", \"film\", \"final\", \"financial\", \"firm\", \"firm\", \"first\", \"first\", \"first\", \"first\", \"football\", \"force\", \"foreign\", \"friday\", \"friday\", \"friday\", \"friday\", \"game\", \"goal\", \"google\", \"government\", \"government\", \"growth\", \"higher\", \"house\", \"hrefhttp\", \"ibm\", \"inc\", \"inc\", \"india\", \"india\", \"internet\", \"investment\", \"investor\", \"iraq\", \"iraqi\", \"israeli\", \"killed\", \"labour\", \"last\", \"last\", \"last\", \"last\", \"lead\", \"leader\", \"leader\", \"leader\", \"league\", \"low\", \"lta\", \"make\", \"make\", \"make\", \"make\", \"market\", \"market\", \"match\", \"microsoft\", \"military\", \"million\", \"million\", \"million\", \"million\", \"minister\", \"minute\", \"mobile\", \"month\", \"month\", \"month\", \"month\", \"movie\", \"music\", \"nation\", \"nation\", \"nation\", \"network\", \"network\", \"network\", \"new\", \"new\", \"new\", \"new\", \"night\", \"northern\", \"nuclear\", \"official\", \"oil\", \"one\", \"one\", \"one\", \"one\", \"online\", \"palestinian\", \"party\", \"pay\", \"people\", \"people\", \"percent\", \"personal\", \"phone\", \"play\", \"player\", \"player\", \"point\", \"point\", \"police\", \"political\", \"president\", \"presidential\", \"price\", \"prime\", \"profit\", \"rate\", \"red\", \"rise\", \"rose\", \"round\", \"russian\", \"russian\", \"said\", \"said\", \"said\", \"said\", \"sale\", \"sale\", \"say\", \"say\", \"say\", \"say\", \"scored\", \"search\", \"season\", \"second\", \"second\", \"second\", \"second\", \"secretary\", \"service\", \"service\", \"share\", \"share\", \"site\", \"site\", \"software\", \"software\", \"space\", \"spending\", \"spokesman\", \"sport\", \"star\", \"state\", \"state\", \"state\", \"stock\", \"sunday\", \"sunday\", \"system\", \"target\", \"tax\", \"team\", \"technology\", \"thursday\", \"thursday\", \"thursday\", \"thursday\", \"time\", \"time\", \"time\", \"time\", \"title\", \"two\", \"two\", \"two\", \"two\", \"united\", \"united\", \"united\", \"use\", \"user\", \"using\", \"version\", \"victory\", \"video\", \"video\", \"vote\", \"web\", \"wednesday\", \"wednesday\", \"wednesday\", \"wednesday\", \"williams\", \"win\", \"window\", \"wireless\", \"world\", \"world\", \"world\", \"world\", \"would\", \"would\", \"would\", \"would\", \"year\", \"year\", \"year\", \"year\", \"york\", \"york\", \"yukos\", \"\\u00a3bn\", \"\\u00a3bn\"]}, \"R\": 30, \"lambda.step\": 0.01, \"plot.opts\": {\"xlab\": \"PC1\", \"ylab\": \"PC2\"}, \"topic.order\": [3, 2, 4, 1]};\n",
              "\n",
              "function LDAvis_load_lib(url, callback){\n",
              "  var s = document.createElement('script');\n",
              "  s.src = url;\n",
              "  s.async = true;\n",
              "  s.onreadystatechange = s.onload = callback;\n",
              "  s.onerror = function(){console.warn(\"failed to load library \" + url);};\n",
              "  document.getElementsByTagName(\"head\")[0].appendChild(s);\n",
              "}\n",
              "\n",
              "if(typeof(LDAvis) !== \"undefined\"){\n",
              "   // already loaded: just create the visualization\n",
              "   !function(LDAvis){\n",
              "       new LDAvis(\"#\" + \"ldavis_el13751405465391253284381220564\", ldavis_el13751405465391253284381220564_data);\n",
              "   }(LDAvis);\n",
              "}else if(typeof define === \"function\" && define.amd){\n",
              "   // require.js is available: use it to load d3/LDAvis\n",
              "   require.config({paths: {d3: \"https://d3js.org/d3.v5\"}});\n",
              "   require([\"d3\"], function(d3){\n",
              "      window.d3 = d3;\n",
              "      LDAvis_load_lib(\"https://cdn.jsdelivr.net/gh/bmabey/pyLDAvis@3.4.0/pyLDAvis/js/ldavis.v3.0.0.js\", function(){\n",
              "        new LDAvis(\"#\" + \"ldavis_el13751405465391253284381220564\", ldavis_el13751405465391253284381220564_data);\n",
              "      });\n",
              "    });\n",
              "}else{\n",
              "    // require.js not available: dynamically load d3 & LDAvis\n",
              "    LDAvis_load_lib(\"https://d3js.org/d3.v5.js\", function(){\n",
              "         LDAvis_load_lib(\"https://cdn.jsdelivr.net/gh/bmabey/pyLDAvis@3.4.0/pyLDAvis/js/ldavis.v3.0.0.js\", function(){\n",
              "                 new LDAvis(\"#\" + \"ldavis_el13751405465391253284381220564\", ldavis_el13751405465391253284381220564_data);\n",
              "            })\n",
              "         });\n",
              "}\n",
              "</script>"
            ]
          },
          "metadata": {},
          "execution_count": 15
        }
      ]
    },
    {
      "cell_type": "code",
      "source": [
        "with open('/content/gdrive/MyDrive/Extra Docs/Clustering/topics_apr25_1703.pickle', 'wb') as f:\n",
        "    pickle.dump(transcripts_topics, f)"
      ],
      "metadata": {
        "colab": {
          "base_uri": "https://localhost:8080/"
        },
        "id": "tL6Qgo-PMKfR",
        "outputId": "12c57e59-bd3b-4c8e-857a-1c08c75a7b13"
      },
      "execution_count": 23,
      "outputs": [
        {
          "output_type": "stream",
          "name": "stderr",
          "text": [
            "/usr/local/lib/python3.9/dist-packages/ipykernel/ipkernel.py:283: DeprecationWarning: `should_run_async` will not call `transform_cell` automatically in the future. Please pass the result to `transformed_cell` argument and any exception that happen during thetransform in `preprocessing_exc_tuple` in IPython 7.17 and above.\n",
            "  and should_run_async(code)\n"
          ]
        }
      ]
    },
    {
      "cell_type": "code",
      "source": [
        "from gensim import corpora\n",
        "dictionary = corpora.Dictionary(texts)\n",
        "\n",
        "with open('/content/gdrive/MyDrive/Extra Docs/Clustering/dictionary_apr25_1703.pickle', 'wb') as f:\n",
        "    pickle.dump(dictionary, f)"
      ],
      "metadata": {
        "id": "6lhHWmFYcV0n",
        "colab": {
          "base_uri": "https://localhost:8080/"
        },
        "outputId": "ea4cd760-ab5a-4351-b9cf-433dc1711eee"
      },
      "execution_count": 24,
      "outputs": [
        {
          "output_type": "stream",
          "name": "stderr",
          "text": [
            "/usr/local/lib/python3.9/dist-packages/ipykernel/ipkernel.py:283: DeprecationWarning: `should_run_async` will not call `transform_cell` automatically in the future. Please pass the result to `transformed_cell` argument and any exception that happen during thetransform in `preprocessing_exc_tuple` in IPython 7.17 and above.\n",
            "  and should_run_async(code)\n"
          ]
        }
      ]
    },
    {
      "cell_type": "code",
      "source": [
        "other_texts = [\n",
        "    ['computer', 'time', 'graph', 'microsoft', 'system', 'technology'],\n",
        "    ['game', 'point', 'year', 'coach', 'season', 'team'],\n",
        "    ['president', 'government', 'computer', 'leader', 'world', 'country'],\n",
        "    ['company', 'stock', 'target', 'million', 'billion']\n",
        "]\n",
        "\n",
        "other_corpus = [dictionary.doc2bow(text) for text in other_texts]\n",
        "\n",
        "unseen_doc = other_corpus[0]\n",
        "vector = transcripts_topics[unseen_doc]  # get topic probability distribution for a document\n",
        "print(vector)\n",
        "\n",
        "print(transcripts_topics[other_corpus[1]])\n",
        "print(transcripts_topics[other_corpus[2]])\n",
        "print(transcripts_topics[other_corpus[3]])\n",
        "\n",
        "'''\n",
        "0 - Business\n",
        "1 - Sports\n",
        "2 - World\n",
        "3 - Tech\n",
        "'''"
      ],
      "metadata": {
        "colab": {
          "base_uri": "https://localhost:8080/"
        },
        "id": "A9Yrf6N7cVxs",
        "outputId": "ca0ad184-ecf3-4dc6-98d0-bd2fc60fb4b7"
      },
      "execution_count": 18,
      "outputs": [
        {
          "output_type": "stream",
          "name": "stdout",
          "text": [
            "[(0, 0.024600707), (1, 0.028297866), (2, 0.03177281), (3, 0.9153286)]\n",
            "[(0, 0.023794873), (1, 0.92061496), (2, 0.03067357), (3, 0.024916572)]\n",
            "[(0, 0.023800371), (1, 0.027376387), (2, 0.7380732), (3, 0.21075004)]\n",
            "[(0, 0.90279865), (1, 0.031954557), (2, 0.035939634), (3, 0.029307147)]\n"
          ]
        },
        {
          "output_type": "stream",
          "name": "stderr",
          "text": [
            "/usr/local/lib/python3.9/dist-packages/ipykernel/ipkernel.py:283: DeprecationWarning: `should_run_async` will not call `transform_cell` automatically in the future. Please pass the result to `transformed_cell` argument and any exception that happen during thetransform in `preprocessing_exc_tuple` in IPython 7.17 and above.\n",
            "  and should_run_async(code)\n"
          ]
        }
      ]
    },
    {
      "cell_type": "code",
      "source": [
        "from gensim.models import CoherenceModel\n",
        "\n",
        "# Compute Coherence Score\n",
        "coherence_model_lda = CoherenceModel(model=transcripts_topics, texts=texts, dictionary=dictionary, coherence='c_v')\n",
        "coherence_lda = coherence_model_lda.get_coherence()\n",
        "print('Coherence Score: ', coherence_lda)"
      ],
      "metadata": {
        "colab": {
          "base_uri": "https://localhost:8080/"
        },
        "id": "hUw_4eDerpzw",
        "outputId": "fdbfd306-d8e7-4fbc-f186-55e7d8d94ea6"
      },
      "execution_count": 19,
      "outputs": [
        {
          "output_type": "stream",
          "name": "stderr",
          "text": [
            "/usr/local/lib/python3.9/dist-packages/ipykernel/ipkernel.py:283: DeprecationWarning: `should_run_async` will not call `transform_cell` automatically in the future. Please pass the result to `transformed_cell` argument and any exception that happen during thetransform in `preprocessing_exc_tuple` in IPython 7.17 and above.\n",
            "  and should_run_async(code)\n"
          ]
        },
        {
          "output_type": "stream",
          "name": "stdout",
          "text": [
            "Coherence Score:  0.5913188920140205\n"
          ]
        }
      ]
    },
    {
      "cell_type": "code",
      "source": [
        "perplexity = transcripts_topics.log_perplexity(corpus)\n",
        "print(f\"Perplexity: {perplexity}\")"
      ],
      "metadata": {
        "colab": {
          "base_uri": "https://localhost:8080/"
        },
        "id": "TlLeBrddrpsB",
        "outputId": "6a1492fc-8f0c-485e-aaf6-acc3f93f2299"
      },
      "execution_count": 20,
      "outputs": [
        {
          "output_type": "stream",
          "name": "stderr",
          "text": [
            "/usr/local/lib/python3.9/dist-packages/ipykernel/ipkernel.py:283: DeprecationWarning: `should_run_async` will not call `transform_cell` automatically in the future. Please pass the result to `transformed_cell` argument and any exception that happen during thetransform in `preprocessing_exc_tuple` in IPython 7.17 and above.\n",
            "  and should_run_async(code)\n"
          ]
        },
        {
          "output_type": "stream",
          "name": "stdout",
          "text": [
            "Perplexity: -8.56764071063874\n"
          ]
        }
      ]
    },
    {
      "cell_type": "markdown",
      "source": [
        "## Testing Model"
      ],
      "metadata": {
        "id": "nx7WCf24NFb9"
      }
    },
    {
      "cell_type": "code",
      "source": [
        "!pip install pandas"
      ],
      "metadata": {
        "id": "SCz1KfGZcVsc",
        "colab": {
          "base_uri": "https://localhost:8080/"
        },
        "outputId": "38eb40c3-3d93-4529-e4cc-456b1df45d8c"
      },
      "execution_count": 21,
      "outputs": [
        {
          "output_type": "stream",
          "name": "stderr",
          "text": [
            "/usr/local/lib/python3.9/dist-packages/ipykernel/ipkernel.py:283: DeprecationWarning: `should_run_async` will not call `transform_cell` automatically in the future. Please pass the result to `transformed_cell` argument and any exception that happen during thetransform in `preprocessing_exc_tuple` in IPython 7.17 and above.\n",
            "  and should_run_async(code)\n"
          ]
        },
        {
          "output_type": "stream",
          "name": "stdout",
          "text": [
            "Looking in indexes: https://pypi.org/simple, https://us-python.pkg.dev/colab-wheels/public/simple/\n",
            "Requirement already satisfied: pandas in /usr/local/lib/python3.9/dist-packages (1.5.3)\n",
            "Requirement already satisfied: numpy>=1.20.3 in /usr/local/lib/python3.9/dist-packages (from pandas) (1.24.3)\n",
            "Requirement already satisfied: pytz>=2020.1 in /usr/local/lib/python3.9/dist-packages (from pandas) (2022.7.1)\n",
            "Requirement already satisfied: python-dateutil>=2.8.1 in /usr/local/lib/python3.9/dist-packages (from pandas) (2.8.2)\n",
            "Requirement already satisfied: six>=1.5 in /usr/local/lib/python3.9/dist-packages (from python-dateutil>=2.8.1->pandas) (1.16.0)\n"
          ]
        }
      ]
    },
    {
      "cell_type": "code",
      "source": [
        "import pandas as pd"
      ],
      "metadata": {
        "id": "YpOM-iIJsfK1",
        "colab": {
          "base_uri": "https://localhost:8080/"
        },
        "outputId": "b4e35382-c806-453b-e1e1-5c01b0e354ea"
      },
      "execution_count": 22,
      "outputs": [
        {
          "output_type": "stream",
          "name": "stderr",
          "text": [
            "/usr/local/lib/python3.9/dist-packages/ipykernel/ipkernel.py:283: DeprecationWarning: `should_run_async` will not call `transform_cell` automatically in the future. Please pass the result to `transformed_cell` argument and any exception that happen during thetransform in `preprocessing_exc_tuple` in IPython 7.17 and above.\n",
            "  and should_run_async(code)\n"
          ]
        }
      ]
    },
    {
      "cell_type": "code",
      "source": [
        "with open('/content/gdrive/MyDrive/Extra Docs/Clustering/ag_files/test.csv', 'rb') as f:\n",
        "    test_data = pd.read_csv(f)\n",
        "test_data.head()"
      ],
      "metadata": {
        "id": "DUXYh-b8sfHv",
        "colab": {
          "base_uri": "https://localhost:8080/",
          "height": 409
        },
        "outputId": "4f427eb0-29ba-46ff-945b-ea5590ad45cf"
      },
      "execution_count": 25,
      "outputs": [
        {
          "output_type": "stream",
          "name": "stderr",
          "text": [
            "/usr/local/lib/python3.9/dist-packages/ipykernel/ipkernel.py:283: DeprecationWarning: `should_run_async` will not call `transform_cell` automatically in the future. Please pass the result to `transformed_cell` argument and any exception that happen during thetransform in `preprocessing_exc_tuple` in IPython 7.17 and above.\n",
            "  and should_run_async(code)\n"
          ]
        },
        {
          "output_type": "execute_result",
          "data": {
            "text/plain": [
              "   Class Index                                              Title  \\\n",
              "0            3                  Fears for T N pension after talks   \n",
              "1            4  The Race is On: Second Private Team Sets Launc...   \n",
              "2            4      Ky. Company Wins Grant to Study Peptides (AP)   \n",
              "3            4      Prediction Unit Helps Forecast Wildfires (AP)   \n",
              "4            4        Calif. Aims to Limit Farm-Related Smog (AP)   \n",
              "\n",
              "                                         Description  \n",
              "0  Unions representing workers at Turner   Newall...  \n",
              "1  SPACE.com - TORONTO, Canada -- A second\\team o...  \n",
              "2  AP - A company founded by a chemistry research...  \n",
              "3  AP - It's barely dawn when Mike Fitzpatrick st...  \n",
              "4  AP - Southern California's smog-fighting agenc...  "
            ],
            "text/html": [
              "\n",
              "  <div id=\"df-07c37a12-56cf-4589-abc0-496323e8e7fc\">\n",
              "    <div class=\"colab-df-container\">\n",
              "      <div>\n",
              "<style scoped>\n",
              "    .dataframe tbody tr th:only-of-type {\n",
              "        vertical-align: middle;\n",
              "    }\n",
              "\n",
              "    .dataframe tbody tr th {\n",
              "        vertical-align: top;\n",
              "    }\n",
              "\n",
              "    .dataframe thead th {\n",
              "        text-align: right;\n",
              "    }\n",
              "</style>\n",
              "<table border=\"1\" class=\"dataframe\">\n",
              "  <thead>\n",
              "    <tr style=\"text-align: right;\">\n",
              "      <th></th>\n",
              "      <th>Class Index</th>\n",
              "      <th>Title</th>\n",
              "      <th>Description</th>\n",
              "    </tr>\n",
              "  </thead>\n",
              "  <tbody>\n",
              "    <tr>\n",
              "      <th>0</th>\n",
              "      <td>3</td>\n",
              "      <td>Fears for T N pension after talks</td>\n",
              "      <td>Unions representing workers at Turner   Newall...</td>\n",
              "    </tr>\n",
              "    <tr>\n",
              "      <th>1</th>\n",
              "      <td>4</td>\n",
              "      <td>The Race is On: Second Private Team Sets Launc...</td>\n",
              "      <td>SPACE.com - TORONTO, Canada -- A second\\team o...</td>\n",
              "    </tr>\n",
              "    <tr>\n",
              "      <th>2</th>\n",
              "      <td>4</td>\n",
              "      <td>Ky. Company Wins Grant to Study Peptides (AP)</td>\n",
              "      <td>AP - A company founded by a chemistry research...</td>\n",
              "    </tr>\n",
              "    <tr>\n",
              "      <th>3</th>\n",
              "      <td>4</td>\n",
              "      <td>Prediction Unit Helps Forecast Wildfires (AP)</td>\n",
              "      <td>AP - It's barely dawn when Mike Fitzpatrick st...</td>\n",
              "    </tr>\n",
              "    <tr>\n",
              "      <th>4</th>\n",
              "      <td>4</td>\n",
              "      <td>Calif. Aims to Limit Farm-Related Smog (AP)</td>\n",
              "      <td>AP - Southern California's smog-fighting agenc...</td>\n",
              "    </tr>\n",
              "  </tbody>\n",
              "</table>\n",
              "</div>\n",
              "      <button class=\"colab-df-convert\" onclick=\"convertToInteractive('df-07c37a12-56cf-4589-abc0-496323e8e7fc')\"\n",
              "              title=\"Convert this dataframe to an interactive table.\"\n",
              "              style=\"display:none;\">\n",
              "        \n",
              "  <svg xmlns=\"http://www.w3.org/2000/svg\" height=\"24px\"viewBox=\"0 0 24 24\"\n",
              "       width=\"24px\">\n",
              "    <path d=\"M0 0h24v24H0V0z\" fill=\"none\"/>\n",
              "    <path d=\"M18.56 5.44l.94 2.06.94-2.06 2.06-.94-2.06-.94-.94-2.06-.94 2.06-2.06.94zm-11 1L8.5 8.5l.94-2.06 2.06-.94-2.06-.94L8.5 2.5l-.94 2.06-2.06.94zm10 10l.94 2.06.94-2.06 2.06-.94-2.06-.94-.94-2.06-.94 2.06-2.06.94z\"/><path d=\"M17.41 7.96l-1.37-1.37c-.4-.4-.92-.59-1.43-.59-.52 0-1.04.2-1.43.59L10.3 9.45l-7.72 7.72c-.78.78-.78 2.05 0 2.83L4 21.41c.39.39.9.59 1.41.59.51 0 1.02-.2 1.41-.59l7.78-7.78 2.81-2.81c.8-.78.8-2.07 0-2.86zM5.41 20L4 18.59l7.72-7.72 1.47 1.35L5.41 20z\"/>\n",
              "  </svg>\n",
              "      </button>\n",
              "      \n",
              "  <style>\n",
              "    .colab-df-container {\n",
              "      display:flex;\n",
              "      flex-wrap:wrap;\n",
              "      gap: 12px;\n",
              "    }\n",
              "\n",
              "    .colab-df-convert {\n",
              "      background-color: #E8F0FE;\n",
              "      border: none;\n",
              "      border-radius: 50%;\n",
              "      cursor: pointer;\n",
              "      display: none;\n",
              "      fill: #1967D2;\n",
              "      height: 32px;\n",
              "      padding: 0 0 0 0;\n",
              "      width: 32px;\n",
              "    }\n",
              "\n",
              "    .colab-df-convert:hover {\n",
              "      background-color: #E2EBFA;\n",
              "      box-shadow: 0px 1px 2px rgba(60, 64, 67, 0.3), 0px 1px 3px 1px rgba(60, 64, 67, 0.15);\n",
              "      fill: #174EA6;\n",
              "    }\n",
              "\n",
              "    [theme=dark] .colab-df-convert {\n",
              "      background-color: #3B4455;\n",
              "      fill: #D2E3FC;\n",
              "    }\n",
              "\n",
              "    [theme=dark] .colab-df-convert:hover {\n",
              "      background-color: #434B5C;\n",
              "      box-shadow: 0px 1px 3px 1px rgba(0, 0, 0, 0.15);\n",
              "      filter: drop-shadow(0px 1px 2px rgba(0, 0, 0, 0.3));\n",
              "      fill: #FFFFFF;\n",
              "    }\n",
              "  </style>\n",
              "\n",
              "      <script>\n",
              "        const buttonEl =\n",
              "          document.querySelector('#df-07c37a12-56cf-4589-abc0-496323e8e7fc button.colab-df-convert');\n",
              "        buttonEl.style.display =\n",
              "          google.colab.kernel.accessAllowed ? 'block' : 'none';\n",
              "\n",
              "        async function convertToInteractive(key) {\n",
              "          const element = document.querySelector('#df-07c37a12-56cf-4589-abc0-496323e8e7fc');\n",
              "          const dataTable =\n",
              "            await google.colab.kernel.invokeFunction('convertToInteractive',\n",
              "                                                     [key], {});\n",
              "          if (!dataTable) return;\n",
              "\n",
              "          const docLinkHtml = 'Like what you see? Visit the ' +\n",
              "            '<a target=\"_blank\" href=https://colab.research.google.com/notebooks/data_table.ipynb>data table notebook</a>'\n",
              "            + ' to learn more about interactive tables.';\n",
              "          element.innerHTML = '';\n",
              "          dataTable['output_type'] = 'display_data';\n",
              "          await google.colab.output.renderOutput(dataTable, element);\n",
              "          const docLink = document.createElement('div');\n",
              "          docLink.innerHTML = docLinkHtml;\n",
              "          element.appendChild(docLink);\n",
              "        }\n",
              "      </script>\n",
              "    </div>\n",
              "  </div>\n",
              "  "
            ]
          },
          "metadata": {},
          "execution_count": 25
        }
      ]
    },
    {
      "cell_type": "code",
      "source": [
        "test_data.drop(columns=['Title'], inplace=True)"
      ],
      "metadata": {
        "colab": {
          "base_uri": "https://localhost:8080/"
        },
        "id": "u9P5s7yKNLFw",
        "outputId": "7d8abee6-1080-430b-cedb-dc64bb1c3279"
      },
      "execution_count": 26,
      "outputs": [
        {
          "output_type": "stream",
          "name": "stderr",
          "text": [
            "/usr/local/lib/python3.9/dist-packages/ipykernel/ipkernel.py:283: DeprecationWarning: `should_run_async` will not call `transform_cell` automatically in the future. Please pass the result to `transformed_cell` argument and any exception that happen during thetransform in `preprocessing_exc_tuple` in IPython 7.17 and above.\n",
            "  and should_run_async(code)\n"
          ]
        }
      ]
    },
    {
      "cell_type": "code",
      "source": [
        "category = []\n",
        "\n",
        "for i in range(0, test_data.shape[0]):\n",
        "    if test_data['Class Index'][i] == 1:\n",
        "        category.append('world')\n",
        "    elif test_data['Class Index'][i] == 2:\n",
        "        category.append('sport')\n",
        "    elif test_data['Class Index'][i] == 3:\n",
        "        category.append('business')\n",
        "    else:\n",
        "        category.append('tech')"
      ],
      "metadata": {
        "colab": {
          "base_uri": "https://localhost:8080/"
        },
        "id": "RNkFfCWaNLDb",
        "outputId": "404b325a-aff3-4ed1-ef87-a56302d3ed03"
      },
      "execution_count": 27,
      "outputs": [
        {
          "output_type": "stream",
          "name": "stderr",
          "text": [
            "/usr/local/lib/python3.9/dist-packages/ipykernel/ipkernel.py:283: DeprecationWarning: `should_run_async` will not call `transform_cell` automatically in the future. Please pass the result to `transformed_cell` argument and any exception that happen during thetransform in `preprocessing_exc_tuple` in IPython 7.17 and above.\n",
            "  and should_run_async(code)\n"
          ]
        }
      ]
    },
    {
      "cell_type": "code",
      "source": [
        "test_data['Categories'] = category"
      ],
      "metadata": {
        "colab": {
          "base_uri": "https://localhost:8080/"
        },
        "id": "TkswPjNPNLAo",
        "outputId": "278baba7-29cc-4062-aa65-490e3b6fe41e"
      },
      "execution_count": 28,
      "outputs": [
        {
          "output_type": "stream",
          "name": "stderr",
          "text": [
            "/usr/local/lib/python3.9/dist-packages/ipykernel/ipkernel.py:283: DeprecationWarning: `should_run_async` will not call `transform_cell` automatically in the future. Please pass the result to `transformed_cell` argument and any exception that happen during thetransform in `preprocessing_exc_tuple` in IPython 7.17 and above.\n",
            "  and should_run_async(code)\n"
          ]
        }
      ]
    },
    {
      "cell_type": "code",
      "source": [
        "test_data.drop(columns=['Class Index'], inplace=True)"
      ],
      "metadata": {
        "colab": {
          "base_uri": "https://localhost:8080/"
        },
        "id": "dQGAZV-5NK-I",
        "outputId": "33f014ca-2755-4340-a8ea-fabcd265c7b0"
      },
      "execution_count": 29,
      "outputs": [
        {
          "output_type": "stream",
          "name": "stderr",
          "text": [
            "/usr/local/lib/python3.9/dist-packages/ipykernel/ipkernel.py:283: DeprecationWarning: `should_run_async` will not call `transform_cell` automatically in the future. Please pass the result to `transformed_cell` argument and any exception that happen during thetransform in `preprocessing_exc_tuple` in IPython 7.17 and above.\n",
            "  and should_run_async(code)\n"
          ]
        }
      ]
    },
    {
      "cell_type": "code",
      "source": [
        "import nltk\n",
        "from nltk.stem import WordNetLemmatizer\n",
        "from nltk.corpus import stopwords"
      ],
      "metadata": {
        "colab": {
          "base_uri": "https://localhost:8080/"
        },
        "id": "e9dj2pMVNK7M",
        "outputId": "8e4a79b9-e99c-4c2a-cc66-7d2742197f54"
      },
      "execution_count": 30,
      "outputs": [
        {
          "output_type": "stream",
          "name": "stderr",
          "text": [
            "/usr/local/lib/python3.9/dist-packages/ipykernel/ipkernel.py:283: DeprecationWarning: `should_run_async` will not call `transform_cell` automatically in the future. Please pass the result to `transformed_cell` argument and any exception that happen during thetransform in `preprocessing_exc_tuple` in IPython 7.17 and above.\n",
            "  and should_run_async(code)\n"
          ]
        }
      ]
    },
    {
      "cell_type": "code",
      "source": [
        "nltk.download('stopwords')\n",
        "nltk.download('wordnet')\n",
        "nltk.download('omw-1.4')"
      ],
      "metadata": {
        "colab": {
          "base_uri": "https://localhost:8080/"
        },
        "id": "fBt4A9FUNK4b",
        "outputId": "da675c32-fd49-4a4a-b431-e99341827463"
      },
      "execution_count": 31,
      "outputs": [
        {
          "output_type": "stream",
          "name": "stderr",
          "text": [
            "/usr/local/lib/python3.9/dist-packages/ipykernel/ipkernel.py:283: DeprecationWarning: `should_run_async` will not call `transform_cell` automatically in the future. Please pass the result to `transformed_cell` argument and any exception that happen during thetransform in `preprocessing_exc_tuple` in IPython 7.17 and above.\n",
            "  and should_run_async(code)\n",
            "[nltk_data] Downloading package stopwords to /root/nltk_data...\n",
            "[nltk_data]   Unzipping corpora/stopwords.zip.\n",
            "[nltk_data] Downloading package wordnet to /root/nltk_data...\n",
            "[nltk_data] Downloading package omw-1.4 to /root/nltk_data...\n"
          ]
        },
        {
          "output_type": "execute_result",
          "data": {
            "text/plain": [
              "True"
            ]
          },
          "metadata": {},
          "execution_count": 31
        }
      ]
    },
    {
      "cell_type": "code",
      "source": [
        "import string\n",
        "import re\n",
        "\n",
        "def remove_punctuation_digits(text):\n",
        "  punctuationfree = \"\".join([i for i in text if i not in string.punctuation and not i.isdigit()])\n",
        "  return punctuationfree\n",
        "\n",
        "def remove_stopwords(text):\n",
        "  text = \" \".join([i for i in text.split() if len(i) > 2 and i not in stopwords.words('english')])\n",
        "  return text\n",
        "\n",
        "def clean_text(text):\n",
        "  text = text.replace(\"/\", \" \")\n",
        "  text = text.replace(\"\\\\\", \" \")\n",
        "  text = remove_stopwords(text)\n",
        "  text = remove_punctuation_digits(text)\n",
        "  text = text.lower()\n",
        "  text = re.sub(' +', ' ', text)\n",
        "  return text"
      ],
      "metadata": {
        "colab": {
          "base_uri": "https://localhost:8080/"
        },
        "id": "qurILafuNK1p",
        "outputId": "c8272302-9c2f-4a92-d10a-2638f4a1be09"
      },
      "execution_count": 32,
      "outputs": [
        {
          "output_type": "stream",
          "name": "stderr",
          "text": [
            "/usr/local/lib/python3.9/dist-packages/ipykernel/ipkernel.py:283: DeprecationWarning: `should_run_async` will not call `transform_cell` automatically in the future. Please pass the result to `transformed_cell` argument and any exception that happen during thetransform in `preprocessing_exc_tuple` in IPython 7.17 and above.\n",
            "  and should_run_async(code)\n"
          ]
        }
      ]
    },
    {
      "cell_type": "code",
      "source": [
        "index = test_data.index\n",
        "for i in index:\n",
        "    test_data[\"Description\"][i] = clean_text(test_data[\"Description\"][i])"
      ],
      "metadata": {
        "colab": {
          "base_uri": "https://localhost:8080/"
        },
        "id": "hkPR2KsANKzA",
        "outputId": "070318ca-c136-4b25-d6d2-c87f3e7b1a00"
      },
      "execution_count": 33,
      "outputs": [
        {
          "output_type": "stream",
          "name": "stderr",
          "text": [
            "/usr/local/lib/python3.9/dist-packages/ipykernel/ipkernel.py:283: DeprecationWarning: `should_run_async` will not call `transform_cell` automatically in the future. Please pass the result to `transformed_cell` argument and any exception that happen during thetransform in `preprocessing_exc_tuple` in IPython 7.17 and above.\n",
            "  and should_run_async(code)\n"
          ]
        }
      ]
    },
    {
      "cell_type": "code",
      "source": [
        "test_texts = []\n",
        "lemmatizer = WordNetLemmatizer()\n",
        "\n",
        "for text in test_data[\"Description\"]:\n",
        "    lemmatized_words = []\n",
        "    for word in text.split():\n",
        "        if(\"reuter\" not in word):\n",
        "            lemmatized_word = lemmatizer.lemmatize(word)\n",
        "            if(len(lemmatized_word) > 2 and lemmatized_word not in stopwords.words('english')):\n",
        "                lemmatized_words.append(lemmatized_word)\n",
        "    test_texts.append(lemmatized_words)"
      ],
      "metadata": {
        "colab": {
          "base_uri": "https://localhost:8080/"
        },
        "id": "o2DFuKoENKwR",
        "outputId": "955851a2-fb76-4bcf-9c69-95e2119d486f"
      },
      "execution_count": 34,
      "outputs": [
        {
          "output_type": "stream",
          "name": "stderr",
          "text": [
            "/usr/local/lib/python3.9/dist-packages/ipykernel/ipkernel.py:283: DeprecationWarning: `should_run_async` will not call `transform_cell` automatically in the future. Please pass the result to `transformed_cell` argument and any exception that happen during thetransform in `preprocessing_exc_tuple` in IPython 7.17 and above.\n",
            "  and should_run_async(code)\n"
          ]
        }
      ]
    },
    {
      "cell_type": "code",
      "source": [
        "other_corpus = [dictionary.doc2bow(text) for text in test_texts]\n",
        "\n",
        "unseen_doc = other_corpus[0]\n",
        "vector = transcripts_topics[unseen_doc]  # get topic probability distribution for a document\n",
        "print(vector)"
      ],
      "metadata": {
        "colab": {
          "base_uri": "https://localhost:8080/"
        },
        "id": "xT4BHf1pOAuI",
        "outputId": "3649a89b-80ef-4309-a98c-8b92fb2dc079"
      },
      "execution_count": 35,
      "outputs": [
        {
          "output_type": "stream",
          "name": "stdout",
          "text": [
            "[(0, 0.6479888), (1, 0.10038087), (2, 0.23919074), (3, 0.012439613)]\n"
          ]
        },
        {
          "output_type": "stream",
          "name": "stderr",
          "text": [
            "/usr/local/lib/python3.9/dist-packages/ipykernel/ipkernel.py:283: DeprecationWarning: `should_run_async` will not call `transform_cell` automatically in the future. Please pass the result to `transformed_cell` argument and any exception that happen during thetransform in `preprocessing_exc_tuple` in IPython 7.17 and above.\n",
            "  and should_run_async(code)\n"
          ]
        }
      ]
    },
    {
      "cell_type": "code",
      "source": [
        "# april 25 1703 model\n",
        "op = {\n",
        "    0: \"business\",\n",
        "    1: \"sport\",\n",
        "    2: \"world\",\n",
        "    3: \"tech\"\n",
        "}"
      ],
      "metadata": {
        "colab": {
          "base_uri": "https://localhost:8080/"
        },
        "id": "INm2NkJjOArL",
        "outputId": "d9d67c20-d1b5-4c47-c00c-609c39bf7911"
      },
      "execution_count": 36,
      "outputs": [
        {
          "output_type": "stream",
          "name": "stderr",
          "text": [
            "/usr/local/lib/python3.9/dist-packages/ipykernel/ipkernel.py:283: DeprecationWarning: `should_run_async` will not call `transform_cell` automatically in the future. Please pass the result to `transformed_cell` argument and any exception that happen during thetransform in `preprocessing_exc_tuple` in IPython 7.17 and above.\n",
            "  and should_run_async(code)\n"
          ]
        }
      ]
    },
    {
      "cell_type": "code",
      "source": [
        "fin = []\n",
        "\n",
        "for oc in other_corpus:\n",
        "    # print(oc)\n",
        "    res_vec = transcripts_topics[oc]\n",
        "    max = 0\n",
        "    ind = -1\n",
        "    for rv in res_vec:\n",
        "        if rv[1] > max:\n",
        "            max = rv[1]\n",
        "            ind = rv[0]\n",
        "    fin.append(op[ind])"
      ],
      "metadata": {
        "colab": {
          "base_uri": "https://localhost:8080/"
        },
        "id": "pXXxsdt8OAUY",
        "outputId": "ad965f38-5ae3-41f7-caf7-d047fc91bd8c"
      },
      "execution_count": 37,
      "outputs": [
        {
          "output_type": "stream",
          "name": "stderr",
          "text": [
            "/usr/local/lib/python3.9/dist-packages/ipykernel/ipkernel.py:283: DeprecationWarning: `should_run_async` will not call `transform_cell` automatically in the future. Please pass the result to `transformed_cell` argument and any exception that happen during thetransform in `preprocessing_exc_tuple` in IPython 7.17 and above.\n",
            "  and should_run_async(code)\n"
          ]
        }
      ]
    },
    {
      "cell_type": "code",
      "source": [
        "rc = 0\n",
        "wc = 0\n",
        "\n",
        "for i in range(0, 7600):\n",
        "    if test_data['Categories'][i] == fin[i]: rc+=1\n",
        "    else: wc+=1\n",
        "\n",
        "print(f'rc: {rc}\\twc: {wc}')"
      ],
      "metadata": {
        "colab": {
          "base_uri": "https://localhost:8080/"
        },
        "id": "vx2PS6LQOARn",
        "outputId": "c3b04e98-eeba-4695-f432-c218d6db31c1"
      },
      "execution_count": 38,
      "outputs": [
        {
          "output_type": "stream",
          "name": "stdout",
          "text": [
            "rc: 6186\twc: 1414\n"
          ]
        },
        {
          "output_type": "stream",
          "name": "stderr",
          "text": [
            "/usr/local/lib/python3.9/dist-packages/ipykernel/ipkernel.py:283: DeprecationWarning: `should_run_async` will not call `transform_cell` automatically in the future. Please pass the result to `transformed_cell` argument and any exception that happen during thetransform in `preprocessing_exc_tuple` in IPython 7.17 and above.\n",
            "  and should_run_async(code)\n"
          ]
        }
      ]
    },
    {
      "cell_type": "code",
      "source": [
        "print(f'Accuracy: {rc/(rc+wc)}')"
      ],
      "metadata": {
        "colab": {
          "base_uri": "https://localhost:8080/"
        },
        "id": "5sCO_t69OAPC",
        "outputId": "7c3d7e84-c920-47b0-e24d-24404a4500fc"
      },
      "execution_count": 39,
      "outputs": [
        {
          "output_type": "stream",
          "name": "stdout",
          "text": [
            "Accuracy: 0.8139473684210526\n"
          ]
        },
        {
          "output_type": "stream",
          "name": "stderr",
          "text": [
            "/usr/local/lib/python3.9/dist-packages/ipykernel/ipkernel.py:283: DeprecationWarning: `should_run_async` will not call `transform_cell` automatically in the future. Please pass the result to `transformed_cell` argument and any exception that happen during thetransform in `preprocessing_exc_tuple` in IPython 7.17 and above.\n",
            "  and should_run_async(code)\n"
          ]
        }
      ]
    },
    {
      "cell_type": "code",
      "source": [
        "# for confusion matrix\n",
        "y_test = []\n",
        "y_pred = []\n",
        "\n",
        "for i in range(0, 7600):\n",
        "    y_test.append(test_data['Categories'][i])\n",
        "    y_pred.append(fin[i])"
      ],
      "metadata": {
        "colab": {
          "base_uri": "https://localhost:8080/"
        },
        "id": "bJPB6YihOAMO",
        "outputId": "3186ad51-e306-4bcf-a25a-6f777f1b066a"
      },
      "execution_count": 40,
      "outputs": [
        {
          "output_type": "stream",
          "name": "stderr",
          "text": [
            "/usr/local/lib/python3.9/dist-packages/ipykernel/ipkernel.py:283: DeprecationWarning: `should_run_async` will not call `transform_cell` automatically in the future. Please pass the result to `transformed_cell` argument and any exception that happen during thetransform in `preprocessing_exc_tuple` in IPython 7.17 and above.\n",
            "  and should_run_async(code)\n"
          ]
        }
      ]
    },
    {
      "cell_type": "code",
      "source": [
        "from sklearn.metrics import confusion_matrix\n",
        "import matplotlib.pyplot as plt\n",
        "import numpy as np\n",
        "\n",
        "# Define class labels\n",
        "labels = [\"sport\", \"tech\", \"business\", \"world\"]\n",
        "\n",
        "# Create label to index mapping\n",
        "label_to_index = {label: i for i, label in enumerate(labels)}\n",
        "\n",
        "# Convert labels to indices\n",
        "y_test_indices = [label_to_index[label] for label in y_test]\n",
        "y_pred_indices = [label_to_index[label] for label in y_pred]\n",
        "\n",
        "# Calculate confusion matrix\n",
        "cm = confusion_matrix(y_test_indices, y_pred_indices)\n",
        "\n",
        "# Plot confusion matrix\n",
        "fig, ax = plt.subplots()\n",
        "# im = ax.imshow(cm, cmap='Blues')\n",
        "im = ax.imshow(cm)\n",
        "\n",
        "# Add colorbar\n",
        "cbar = ax.figure.colorbar(im, ax=ax)\n",
        "\n",
        "# Set labels\n",
        "ax.set_xticks(np.arange(len(labels)))\n",
        "ax.set_yticks(np.arange(len(labels)))\n",
        "ax.set_xticklabels(labels)\n",
        "ax.set_yticklabels(labels)\n",
        "\n",
        "# Loop over data and add text annotations\n",
        "for i in range(len(labels)):\n",
        "    for j in range(len(labels)):\n",
        "        ax.text(j, i, str(cm[i, j]), ha='center', va='center', color='w')\n",
        "\n",
        "# Add axis labels\n",
        "ax.set_xlabel('Predicted Label')\n",
        "ax.set_ylabel('True Label')\n",
        "\n",
        "# Set plot title\n",
        "ax.set_title('Confusion Matrix')\n",
        "\n",
        "# Show plot\n",
        "plt.show()\n"
      ],
      "metadata": {
        "colab": {
          "base_uri": "https://localhost:8080/",
          "height": 527
        },
        "id": "xY3THGtWOAJC",
        "outputId": "ef19f818-1747-4060-c65a-d419002cc03c"
      },
      "execution_count": 41,
      "outputs": [
        {
          "output_type": "stream",
          "name": "stderr",
          "text": [
            "/usr/local/lib/python3.9/dist-packages/ipykernel/ipkernel.py:283: DeprecationWarning: `should_run_async` will not call `transform_cell` automatically in the future. Please pass the result to `transformed_cell` argument and any exception that happen during thetransform in `preprocessing_exc_tuple` in IPython 7.17 and above.\n",
            "  and should_run_async(code)\n"
          ]
        },
        {
          "output_type": "display_data",
          "data": {
            "text/plain": [
              "<Figure size 640x480 with 2 Axes>"
            ],
            "image/png": "[encoded data removed]"
          },
          "metadata": {}
        }
      ]
    },
    {
      "cell_type": "code",
      "source": [],
      "metadata": {
        "id": "5cfksrTUNKtk"
      },
      "execution_count": null,
      "outputs": []
    }
  ]
}